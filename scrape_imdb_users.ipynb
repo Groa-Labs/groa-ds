{
 "cells": [
  {
   "cell_type": "code",
   "execution_count": 3,
   "metadata": {},
   "outputs": [],
   "source": [
    "url = \"https://www.imdb.com/user/ur11227647/ratings\"\n",
    "\n",
    "import requests\n",
    "from bs4 import BeautifulSoup"
   ]
  },
  {
   "cell_type": "code",
   "execution_count": 4,
   "metadata": {},
   "outputs": [],
   "source": [
    "res = requests.get(url)\n",
    "assert res.status_code == 200"
   ]
  },
  {
   "cell_type": "code",
   "execution_count": 39,
   "metadata": {},
   "outputs": [
    {
     "name": "stdout",
     "output_type": "stream",
     "text": [
      "0478970\n",
      "5\n",
      "2020-04-25 00:00:00\n",
      "0097576\n",
      "7\n",
      "2020-04-12 00:00:00\n",
      "0100405\n",
      "6\n",
      "2020-03-25 00:00:00\n",
      "0451279\n",
      "6\n",
      "2020-02-18 00:00:00\n",
      "6320628\n",
      "7\n",
      "2020-02-18 00:00:00\n",
      "0110148\n",
      "6\n",
      "2020-02-08 00:00:00\n",
      "0213847\n",
      "8\n",
      "2020-02-04 00:00:00\n",
      "3263904\n",
      "6\n",
      "2020-02-04 00:00:00\n",
      "7286456\n",
      "7\n",
      "2020-01-26 00:00:00\n",
      "0256415\n",
      "6\n",
      "2020-01-26 00:00:00\n",
      "0116483\n",
      "6\n",
      "2020-01-25 00:00:00\n",
      "1560220\n",
      "6\n",
      "2020-01-20 00:00:00\n",
      "1872181\n",
      "5\n",
      "2020-01-20 00:00:00\n",
      "0948470\n",
      "6\n",
      "2020-01-20 00:00:00\n",
      "0955308\n",
      "6\n",
      "2020-01-20 00:00:00\n",
      "2527338\n",
      "6\n",
      "2020-01-06 00:00:00\n",
      "4123430\n",
      "6\n",
      "2019-12-01 00:00:00\n",
      "1034314\n",
      "7\n",
      "2019-11-24 00:00:00\n",
      "0095174\n",
      "6\n",
      "2019-10-05 00:00:00\n",
      "0104779\n",
      "9\n",
      "2019-10-05 00:00:00\n",
      "0160862\n",
      "6\n",
      "2019-10-05 00:00:00\n",
      "0804522\n",
      "6\n",
      "2019-10-05 00:00:00\n",
      "0116908\n",
      "6\n",
      "2019-10-03 00:00:00\n",
      "0099810\n",
      "7\n",
      "2019-08-31 00:00:00\n",
      "2527336\n",
      "5\n",
      "2019-06-30 00:00:00\n",
      "3890160\n",
      "6\n",
      "2019-06-29 00:00:00\n",
      "0822854\n",
      "7\n",
      "2019-06-11 00:00:00\n",
      "1605783\n",
      "6\n",
      "2019-06-11 00:00:00\n",
      "0147800\n",
      "7\n",
      "2019-06-11 00:00:00\n",
      "0187393\n",
      "8\n",
      "2019-06-11 00:00:00\n",
      "2713180\n",
      "6\n",
      "2019-06-11 00:00:00\n",
      "0421715\n",
      "6\n",
      "2019-06-11 00:00:00\n",
      "0343818\n",
      "7\n",
      "2019-06-08 00:00:00\n",
      "1535108\n",
      "6\n",
      "2019-06-08 00:00:00\n",
      "1276104\n",
      "6\n",
      "2019-06-08 00:00:00\n",
      "1631867\n",
      "8\n",
      "2019-06-08 00:00:00\n",
      "0407304\n",
      "6\n",
      "2019-06-08 00:00:00\n",
      "0116629\n",
      "7\n",
      "2019-06-08 00:00:00\n",
      "0816711\n",
      "6\n",
      "2019-06-08 00:00:00\n",
      "4481414\n",
      "7\n",
      "2019-06-07 00:00:00\n",
      "1210166\n",
      "8\n",
      "2019-06-06 00:00:00\n",
      "0458352\n",
      "7\n",
      "2019-06-02 00:00:00\n",
      "0250494\n",
      "6\n",
      "2019-05-14 00:00:00\n",
      "1041829\n",
      "6\n",
      "2019-05-14 00:00:00\n",
      "0118884\n",
      "7\n",
      "2019-04-26 00:00:00\n",
      "0110475\n",
      "9\n",
      "2019-04-10 00:00:00\n",
      "0187078\n",
      "5\n",
      "2019-02-19 00:00:00\n",
      "2381941\n",
      "6\n",
      "2019-02-19 00:00:00\n",
      "0478087\n",
      "6\n",
      "2019-02-19 00:00:00\n",
      "0217505\n",
      "7\n",
      "2019-02-18 00:00:00\n",
      "0118715\n",
      "10\n",
      "2019-01-26 00:00:00\n",
      "1843866\n",
      "6\n",
      "2018-12-23 00:00:00\n",
      "0043265\n",
      "7\n",
      "2018-12-23 00:00:00\n",
      "5463162\n",
      "8\n",
      "2018-12-22 00:00:00\n",
      "1677720\n",
      "6\n",
      "2018-12-22 00:00:00\n",
      "1121931\n",
      "6\n",
      "2018-09-13 00:00:00\n",
      "1723811\n",
      "8\n",
      "2018-09-13 00:00:00\n",
      "1211837\n",
      "7\n",
      "2018-08-17 00:00:00\n",
      "0120890\n",
      "7\n",
      "2018-07-11 00:00:00\n",
      "0790724\n",
      "7\n",
      "2018-07-06 00:00:00\n",
      "0132477\n",
      "8\n",
      "2018-05-20 00:00:00\n",
      "0139134\n",
      "8\n",
      "2018-04-14 00:00:00\n",
      "0106977\n",
      "8\n",
      "2018-04-14 00:00:00\n",
      "0183649\n",
      "9\n",
      "2018-03-17 00:00:00\n",
      "1029235\n",
      "8\n",
      "2018-03-10 00:00:00\n",
      "5013056\n",
      "6\n",
      "2018-01-27 00:00:00\n",
      "3783958\n",
      "6\n",
      "2018-01-27 00:00:00\n",
      "0086250\n",
      "8\n",
      "2018-01-27 00:00:00\n",
      "1483013\n",
      "7\n",
      "2018-01-27 00:00:00\n",
      "6788942\n",
      "8\n",
      "2018-01-09 00:00:00\n",
      "0427944\n",
      "9\n",
      "2017-11-19 00:00:00\n",
      "3659388\n",
      "9\n",
      "2017-11-19 00:00:00\n",
      "0412142\n",
      "10\n",
      "2017-11-19 00:00:00\n",
      "1856101\n",
      "7\n",
      "2017-10-23 00:00:00\n",
      "0092099\n",
      "7\n",
      "2017-10-21 00:00:00\n",
      "1959563\n",
      "6\n",
      "2017-10-21 00:00:00\n",
      "0387808\n",
      "10\n",
      "2017-10-20 00:00:00\n",
      "0069090\n",
      "10\n",
      "2017-09-10 00:00:00\n",
      "2543164\n",
      "7\n",
      "2017-04-18 00:00:00\n",
      "3315342\n",
      "6\n",
      "2017-04-18 00:00:00\n",
      "1637688\n",
      "6\n",
      "2017-04-18 00:00:00\n",
      "1104001\n",
      "7\n",
      "2017-04-18 00:00:00\n",
      "1490017\n",
      "7\n",
      "2017-04-18 00:00:00\n",
      "0108065\n",
      "8\n",
      "2017-04-12 00:00:00\n",
      "0088323\n",
      "8\n",
      "2017-04-11 00:00:00\n",
      "3393786\n",
      "7\n",
      "2017-04-11 00:00:00\n",
      "0457513\n",
      "7\n",
      "2017-04-11 00:00:00\n",
      "1194173\n",
      "7\n",
      "2017-04-11 00:00:00\n",
      "0293662\n",
      "7\n",
      "2017-03-25 00:00:00\n",
      "1272878\n",
      "6\n",
      "2017-03-25 00:00:00\n",
      "3748528\n",
      "6\n",
      "2017-03-24 00:00:00\n",
      "1355644\n",
      "8\n",
      "2017-03-23 00:00:00\n",
      "3521164\n",
      "7\n",
      "2017-03-18 00:00:00\n",
      "0416320\n",
      "9\n",
      "2017-02-15 00:00:00\n",
      "0234215\n",
      "7\n",
      "2017-01-18 00:00:00\n",
      "0787524\n",
      "6\n",
      "2017-01-18 00:00:00\n",
      "2310332\n",
      "7\n",
      "2017-01-13 00:00:00\n",
      "1170358\n",
      "8\n",
      "2017-01-13 00:00:00\n",
      "0446755\n",
      "9\n",
      "2017-01-13 00:00:00\n",
      "1505145\n",
      "7\n",
      "2017-01-13 00:00:00\n"
     ]
    }
   ],
   "source": [
    "from datetime import datetime\n",
    "\n",
    "soup = BeautifulSoup(res.text, \"html.parser\")\n",
    "items = soup.find_all(class_=\"lister-item\")\n",
    "for item in items:\n",
    "    \n",
    "    head = item.find(class_=\"lister-item-header\")\n",
    "    print(head.find(\"a\").get(\"href\").strip(\"/\").strip(\"title/tt\"))\n",
    "    \n",
    "    ratings = item.find(class_=\"ipl-rating-widget\")\n",
    "    user_ratings = ratings.find(class_=\"ipl-rating-star--other-user\")\n",
    "    stars = user_ratings.find(class_=\"ipl-rating-star__rating\")\n",
    "    print(stars.text)\n",
    "    \n",
    "    text_muteds = item.find_all(class_=\"text-muted\")\n",
    "    date_text = None\n",
    "    for text in text_muteds:\n",
    "        if text.text.startswith(\"Rated on\"):\n",
    "            date_text = text.text\n",
    "            break\n",
    "    if date_text:\n",
    "        date_text = date_text.strip(\"Rated on\")\n",
    "        print(datetime.strptime(date_text, \"%d %b %Y\"))"
   ]
  },
  {
   "cell_type": "code",
   "execution_count": 27,
   "metadata": {},
   "outputs": [
    {
     "data": {
      "text/plain": [
       "'/user/ur11227647/ratings?sort=date_added%2Cdesc&mode=detail&paginationKey=mfq5ijak6z7uymjwuuwsomnsegl34knnqsdztp6xeepepyyfxdfiwpol52uhtjimq3iwclnm7gq7uk2y4kjyc3qjmb7twn7x6rcx26m47iyfrvleknv4axfhhxudjs5nyx6ipbs2qrbqtjg6bqac2wheaznk2ouqhjumdr6vdrqkrduv3bats7f7txsg2yzgzzj4gn3k3wlv4fl4ma&lastPosition=100'"
      ]
     },
     "execution_count": 27,
     "metadata": {},
     "output_type": "execute_result"
    }
   ],
   "source": [
    "next_button = soup.find(class_=\"next-page\")\n",
    "next_button.get(\"href\")"
   ]
  },
  {
   "cell_type": "code",
   "execution_count": 30,
   "metadata": {},
   "outputs": [
    {
     "name": "stdout",
     "output_type": "stream",
     "text": [
      "ur00000025\n",
      "ur11227647\n"
     ]
    }
   ],
   "source": [
    "user_id = \"ur11227647\"\n",
    "print(\"ur\" + str(25).zfill(8))\n",
    "print(user_id)"
   ]
  },
  {
   "cell_type": "code",
   "execution_count": 31,
   "metadata": {},
   "outputs": [
    {
     "data": {
      "text/plain": [
       "'https://www.imdb.com/user/ur11227647/ratings'"
      ]
     },
     "execution_count": 31,
     "metadata": {},
     "output_type": "execute_result"
    }
   ],
   "source": [
    "url"
   ]
  },
  {
   "cell_type": "code",
   "execution_count": 42,
   "metadata": {},
   "outputs": [
    {
     "data": {
      "text/plain": [
       "200"
      ]
     },
     "execution_count": 42,
     "metadata": {},
     "output_type": "execute_result"
    }
   ],
   "source": [
    "url = \"https://www.google.com/search?q=site:http://www.imdb.com/user/\"\n",
    "res = requests.get(url)\n",
    "res.status_code"
   ]
  },
  {
   "cell_type": "code",
   "execution_count": 52,
   "metadata": {},
   "outputs": [
    {
     "name": "stdout",
     "output_type": "stream",
     "text": [
      "31\n",
      "https://www.imdb.com/user/ur0337074/\n",
      "https://www.imdb.com/user/ur86693583/\n",
      "https://www.imdb.com/user/ur97682654/\n",
      "https://www.imdb.com/user/ur40802754/\n",
      "https://www.imdb.com/user/ur97228721/\n",
      "https://www.imdb.com/user/ur4822127/\n",
      "https://www.imdb.com/user/ur9752849/\n",
      "https://www.imdb.com/user/ur3252293/\n",
      "https://www.imdb.com/user/ur5313593/\n",
      "https://www.imdb.com/user/ur66940547/\n"
     ]
    }
   ],
   "source": [
    "import re\n",
    "\n",
    "soup = BeautifulSoup(res.text)\n",
    "items = soup.find_all(\"a\")\n",
    "print(len(items))\n",
    "for item in items:\n",
    "    href = item.get(\"href\")\n",
    "    m = re.search(r\"https?://www.imdb.com/user/ur\\d+/\", href)\n",
    "    if not m:\n",
    "        continue\n",
    "    print(m.group(0))"
   ]
  },
  {
   "cell_type": "code",
   "execution_count": 56,
   "metadata": {},
   "outputs": [
    {
     "data": {
      "text/plain": [
       "'/search?q=site:http://www.imdb.com/user/&ie=UTF-8&ei=peCxXpKYA5eP4-EP4OCfsAc&start=10&sa=N'"
      ]
     },
     "execution_count": 56,
     "metadata": {},
     "output_type": "execute_result"
    }
   ],
   "source": [
    "users = set()\n",
    "\n",
    "def scrapeGooglePage(text, users):\n",
    "    soup = BeautifulSoup(text)\n",
    "    items = soup.find_all(\"a\")\n",
    "    next_url = None\n",
    "    for item in items:\n",
    "        href = item.get(\"href\")\n",
    "        \n",
    "        m = re.search(r\"https?://www.imdb.com/user/ur\\d+/\", href)\n",
    "        \n",
    "        if not m:\n",
    "            if href.startswith(\"/search\"):\n",
    "                next_url = href\n",
    "            continue\n",
    "                \n",
    "        users.add(m.group(0))\n",
    "    \n",
    "    return next_url\n",
    "\n",
    "scrapeGooglePage(res.text, users)"
   ]
  },
  {
   "cell_type": "code",
   "execution_count": 54,
   "metadata": {},
   "outputs": [],
   "source": [
    "soup.find(id=\"pnnext\")"
   ]
  },
  {
   "cell_type": "code",
   "execution_count": 72,
   "metadata": {},
   "outputs": [
    {
     "name": "stdout",
     "output_type": "stream",
     "text": [
      "Scraping page 1\n",
      "Scraping page 2\n",
      "Scraping page 3\n",
      "Scraping page 4\n",
      "Scraping page 5\n",
      "Scraping page 6\n",
      "Scraping page 7\n",
      "Scraping page 8\n",
      "Scraping page 9\n",
      "Scraping page 10\n",
      "Scraping page 11\n",
      "Scraping page 12\n",
      "Scraping page 13\n",
      "Scraping page 14\n",
      "Scraping page 15\n",
      "Scraping page 16\n",
      "Scraping page 17\n",
      "Scraping page 18\n",
      "Scraping page 19\n",
      "Scraping page 20\n",
      "Scraping page 21\n",
      "Scraping page 22\n",
      "Scraping page 23\n",
      "Scraping page 24\n",
      "Scraping page 25\n",
      "Scraping page 26\n",
      "Scraping page 27\n",
      "Scraping page 28\n",
      "Scraping page 29\n",
      "Scraping page 30\n",
      "Scraping page 31\n",
      "Scraping page 32\n",
      "Scraping page 33\n",
      "Scraping page 34\n",
      "Scraping page 35\n",
      "Scraping page 36\n",
      "Scraping page 37\n",
      "Scraping page 38\n",
      "Scraping page 39\n",
      "Scraping failed!\n",
      "Scraping page 40\n",
      "Scraping failed!\n",
      "Scraping page 41\n",
      "Scraping failed!\n",
      "Scraping page 42\n",
      "Scraping failed!\n"
     ]
    },
    {
     "ename": "KeyboardInterrupt",
     "evalue": "",
     "output_type": "error",
     "traceback": [
      "\u001b[0;31m---------------------------------------------------------------------------\u001b[0m",
      "\u001b[0;31mKeyboardInterrupt\u001b[0m                         Traceback (most recent call last)",
      "\u001b[0;32m<ipython-input-72-94078a757c10>\u001b[0m in \u001b[0;36m<module>\u001b[0;34m\u001b[0m\n\u001b[1;32m      6\u001b[0m \u001b[0;32mwhile\u001b[0m \u001b[0murl\u001b[0m \u001b[0;32mis\u001b[0m \u001b[0;32mnot\u001b[0m \u001b[0;32mNone\u001b[0m\u001b[0;34m:\u001b[0m\u001b[0;34m\u001b[0m\u001b[0;34m\u001b[0m\u001b[0m\n\u001b[1;32m      7\u001b[0m \u001b[0;34m\u001b[0m\u001b[0m\n\u001b[0;32m----> 8\u001b[0;31m     \u001b[0mtime\u001b[0m\u001b[0;34m.\u001b[0m\u001b[0msleep\u001b[0m\u001b[0;34m(\u001b[0m\u001b[0;36m3\u001b[0m\u001b[0;34m)\u001b[0m\u001b[0;34m\u001b[0m\u001b[0;34m\u001b[0m\u001b[0m\n\u001b[0m\u001b[1;32m      9\u001b[0m     \u001b[0mprint\u001b[0m\u001b[0;34m(\u001b[0m\u001b[0;34mf\"Scraping page {counter}\"\u001b[0m\u001b[0;34m)\u001b[0m\u001b[0;34m\u001b[0m\u001b[0;34m\u001b[0m\u001b[0m\n\u001b[1;32m     10\u001b[0m     \u001b[0mcounter\u001b[0m \u001b[0;34m+=\u001b[0m \u001b[0;36m1\u001b[0m\u001b[0;34m\u001b[0m\u001b[0;34m\u001b[0m\u001b[0m\n",
      "\u001b[0;31mKeyboardInterrupt\u001b[0m: "
     ]
    }
   ],
   "source": [
    "import time\n",
    "\n",
    "counter = 1\n",
    "#url = \"https://www.google.com/search?q=site:http://www.imdb.com/user/\"\n",
    "# reminder: url is already set from running the below loop\n",
    "while url is not None:\n",
    "    \n",
    "    time.sleep(10)\n",
    "    print(f\"Scraping page {counter}\")\n",
    "    counter += 1\n",
    "    \n",
    "    res = requests.get(url)\n",
    "    if res.status_code != 200:\n",
    "        print(\"Scraping failed!\")\n",
    "        continue\n",
    "    \n",
    "    url = \"https://www.google.com\" + scrapeGooglePage(res.text)"
   ]
  },
  {
   "cell_type": "code",
   "execution_count": 66,
   "metadata": {},
   "outputs": [],
   "source": [
    "user_ids = [re.search(\"ur(?P<id_num>\\d+)\", url).group(\"id_num\") for url in users]"
   ]
  },
  {
   "cell_type": "code",
   "execution_count": 67,
   "metadata": {},
   "outputs": [],
   "source": [
    "df = pd.DataFrame({\"user_ids\": user_ids})\n",
    "df.to_csv(\"users.csv\")"
   ]
  },
  {
   "cell_type": "code",
   "execution_count": 63,
   "metadata": {},
   "outputs": [
    {
     "data": {
      "text/plain": [
       "304"
      ]
     },
     "execution_count": 63,
     "metadata": {},
     "output_type": "execute_result"
    }
   ],
   "source": [
    "len(users)"
   ]
  },
  {
   "cell_type": "code",
   "execution_count": 70,
   "metadata": {},
   "outputs": [
    {
     "data": {
      "text/plain": [
       "'<!DOCTYPE html PUBLIC \"-//W3C//DTD HTML 4.01 Transitional//EN\">\\n<html>\\n<head><meta http-equiv=\"content-type\" content=\"text/html; charset=utf-8\"><meta name=\"viewport\" content=\"initial-scale=1\"><title>https://www.google.com/search?q=site:http://www.imdb.com/user/</title></head>\\n<body style=\"font-family: arial, sans-serif; background-color: #fff; color: #000; padding:20px; font-size:18px;\" onload=\"e=document.getElementById(\\'captcha\\');if(e){e.focus();}\">\\n<div style=\"max-width:400px;\">\\n<hr noshade size=\"1\" style=\"color:#ccc; background-color:#ccc;\"><br>\\n<form id=\"captcha-form\" action=\"index\" method=\"post\">\\n<script src=\"https://www.google.com/recaptcha/api.js\" async defer></script>\\n<script>var submitCallback = function(response) {document.getElementById(\\'captcha-form\\').submit();};</script>\\n<div id=\"recaptcha\" class=\"g-recaptcha\" data-sitekey=\"6LfwuyUTAAAAAOAmoS0fdqijC2PbbdH4kjq62Y1b\" data-callback=\"submitCallback\" data-s=\"--w1FK6JCycFGd7McqOEVzWPkud1wR8TkQDofN58Ov_X0O7eA8iEYu_UEpuxFh7Jc4Doh8fz2j2rMzzDOF_s7OqK-xJGCBvWjMkEL-3AcE1w0qStFtRdQL7xpZUAkYnxLvBH5TuyhEV7co0lIN3R9_upOksHJfeun7rsi-vCLiOPWZzwOj0DmlI0NBIrJqHFYdT2Gc2kpCHG33SBe5UHmlO9qA-2Ny4_PBUfnTtNn7IWTpezKeEmAaY\"></div>\\n<input type=\\'hidden\\' name=\\'q\\' value=\\'EhAmAQGZQ4BEQMFQcc2TWWUTGLbPx_UFIhkA8aeDSxluD5TXZ3nORXh1gN4CBk5s_CR-MgFy\\'><input type=\"hidden\" name=\"continue\" value=\"https://www.google.com/search?q=site:http://www.imdb.com/user/\">\\n</form>\\n<hr noshade size=\"1\" style=\"color:#ccc; background-color:#ccc;\">\\n\\n<div style=\"font-size:13px;\">\\n<b>About this page</b><br><br>\\n\\nOur systems have detected unusual traffic from your computer network.  This page checks to see if it&#39;s really you sending the requests, and not a robot.  <a href=\"#\" onclick=\"document.getElementById(\\'infoDiv\\').style.display=\\'block\\';\">Why did this happen?</a><br><br>\\n\\n<div id=\"infoDiv\" style=\"display:none; background-color:#eee; padding:10px; margin:0 0 15px 0; line-height:1.4em;\">\\nThis page appears when Google automatically detects requests coming from your computer network which appear to be in violation of the <a href=\"//www.google.com/policies/terms/\">Terms of Service</a>. The block will expire shortly after those requests stop.  In the meantime, solving the above CAPTCHA will let you continue to use our services.<br><br>This traffic may have been sent by malicious software, a browser plug-in, or a script that sends automated requests.  If you share your network connection, ask your administrator for help &mdash; a different computer using the same IP address may be responsible.  <a href=\"//support.google.com/websearch/answer/86640\">Learn more</a><br><br>Sometimes you may be asked to solve the CAPTCHA if you are using advanced terms that robots are known to use, or sending requests very quickly.\\n</div>\\n\\nIP address: 2601:199:4380:4440:c150:71cd:9359:6513<br>Time: 2020-05-05T22:24:55Z<br>URL: https://www.google.com/search?q=site:http://www.imdb.com/user/<br>\\n</div>\\n</div>\\n</body>\\n</html>\\n'"
      ]
     },
     "execution_count": 70,
     "metadata": {},
     "output_type": "execute_result"
    }
   ],
   "source": [
    "res.text"
   ]
  },
  {
   "cell_type": "code",
   "execution_count": null,
   "metadata": {},
   "outputs": [],
   "source": []
  }
 ],
 "metadata": {
  "kernelspec": {
   "display_name": "lambda_venv",
   "language": "python",
   "name": "lambda_venv"
  },
  "language_info": {
   "codemirror_mode": {
    "name": "ipython",
    "version": 3
   },
   "file_extension": ".py",
   "mimetype": "text/x-python",
   "name": "python",
   "nbconvert_exporter": "python",
   "pygments_lexer": "ipython3",
   "version": "3.6.9"
  }
 },
 "nbformat": 4,
 "nbformat_minor": 4
}
