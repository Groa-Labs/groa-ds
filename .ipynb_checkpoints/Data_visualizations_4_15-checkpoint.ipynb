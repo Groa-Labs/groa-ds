{
 "cells": [
  {
   "cell_type": "markdown",
   "metadata": {},
   "source": [
    "# Ideas of graphs\n",
    "- Most recommended genres\n",
    "- Most recommended years (maybe we can find some patterns or to combine years into decades)\n",
    "- Avrage runtime recommended? (Maybe a histogram, or make some interval with short movies, mini series, long series etc)\n",
    "- Foreign movies recommended? (Not accurate data, maybe we can add language or country in the DB)\n",
    "\n",
    "- Data Viz with watchlist and rated movies (after DB reconstruction)"
   ]
  },
  {
   "cell_type": "code",
   "execution_count": 1,
   "metadata": {
    "colab": {},
    "colab_type": "code",
    "id": "Q2C-PjfvQN94"
   },
   "outputs": [],
   "source": [
    "# imports\n",
    "import pandas as pd \n",
    "import numpy as np\n",
    "import psycopg2\n",
    "import matplotlib.pyplot as plt\n",
    "# from heapq import nlargest \n",
    "# import os\n",
    "# import dotenv import load_dotenv"
   ]
  },
  {
   "cell_type": "code",
   "execution_count": null,
   "metadata": {
    "colab": {},
    "colab_type": "code",
    "id": "0FdM8Zf_QN97"
   },
   "outputs": [],
   "source": [
    "# # load .env file for keys\n",
    "# load_dotenv()"
   ]
  },
  {
   "cell_type": "code",
   "execution_count": null,
   "metadata": {
    "colab": {},
    "colab_type": "code",
    "id": "Q8gy1EGJQN99"
   },
   "outputs": [],
   "source": [
    "# # create connection to prod DB\n",
    "# connection = psycopg2.connect(\n",
    "#                             user=os.getenv('db_user'),\n",
    "#                             password=os.getenv('db_password'),\n",
    "#                             host=os.getenv('db_host'),\n",
    "#                             port=\"5432\",\n",
    "#                             database=os.getenv('db_user')\n",
    "#                             )"
   ]
  },
  {
   "cell_type": "code",
   "execution_count": 2,
   "metadata": {},
   "outputs": [],
   "source": [
    "connection = psycopg2.connect(user=\"postgres\",\n",
    "                                      password=\"lambdaschoolgroa\",\n",
    "                                      host=\"groadb-dev.cbayt2opbptw.us-east-1.rds.amazonaws.com\",\n",
    "                                      port=\"5432\",\n",
    "                                      database=\"postgres\")"
   ]
  },
  {
   "cell_type": "markdown",
   "metadata": {
    "colab_type": "text",
    "id": "daLIzLHmQN-A"
   },
   "source": [
    "## Recommendation Exploration"
   ]
  },
  {
   "cell_type": "code",
   "execution_count": 3,
   "metadata": {
    "colab": {},
    "colab_type": "code",
    "id": "danEzAlXQN-A",
    "outputId": "17ee0657-5dae-47ab-8645-4333d1a200da"
   },
   "outputs": [
    {
     "data": {
      "text/plain": [
       "192"
      ]
     },
     "execution_count": 3,
     "metadata": {},
     "output_type": "execute_result"
    }
   ],
   "source": [
    "# get recommendations \n",
    "cursor = connection.cursor()\n",
    "query = 'SELECT * FROM recommendations'\n",
    "cursor.execute(query)\n",
    "recommendations = cursor.fetchall()\n",
    "cursor.close()\n",
    "len(recommendations)"
   ]
  },
  {
   "cell_type": "code",
   "execution_count": 4,
   "metadata": {},
   "outputs": [
    {
     "data": {
      "text/plain": [
       "[{'Title': 'Breaking News',\n",
       "  'Year': 2004,\n",
       "  'IMDB URL': 'https://www.imdb.com/title/tt0414931/',\n",
       "  'Mean Rating': 6.7,\n",
       "  'Votes': 4906,\n",
       "  'Similarity': 'None',\n",
       "  'ID': '0414931',\n",
       "  'Gem': False,\n",
       "  'Poster URL': '/qK9WhNcGL6CjAdowc9pSSc53Pqb.jpg'},\n",
       " {'Title': 'OSS 117: Lost in Rio',\n",
       "  'Year': 2009,\n",
       "  'IMDB URL': 'https://www.imdb.com/title/tt1167660/',\n",
       "  'Mean Rating': 6.9,\n",
       "  'Votes': 12187,\n",
       "  'Similarity': 'None',\n",
       "  'ID': '1167660',\n",
       "  'Gem': False,\n",
       "  'Poster URL': '/5E0abFYCo7ePxebWxKdLGOEx06f.jpg'},\n",
       " {'Title': 'The Girl from Monaco',\n",
       "  'Year': 2008,\n",
       "  'IMDB URL': 'https://www.imdb.com/title/tt1139800/',\n",
       "  'Mean Rating': 5.8,\n",
       "  'Votes': 1909,\n",
       "  'Similarity': 'None',\n",
       "  'ID': '1139800',\n",
       "  'Gem': False,\n",
       "  'Poster URL': 'Not in table'}]"
      ]
     },
     "execution_count": 4,
     "metadata": {},
     "output_type": "execute_result"
    }
   ],
   "source": [
    "# See first three recommendations for the first user in the database\n",
    "recommendations[0][2][:3]"
   ]
  },
  {
   "cell_type": "code",
   "execution_count": 5,
   "metadata": {},
   "outputs": [
    {
     "name": "stdout",
     "output_type": "stream",
     "text": [
      "(6906, 2)\n"
     ]
    },
    {
     "data": {
      "text/html": [
       "<div>\n",
       "<style scoped>\n",
       "    .dataframe tbody tr th:only-of-type {\n",
       "        vertical-align: middle;\n",
       "    }\n",
       "\n",
       "    .dataframe tbody tr th {\n",
       "        vertical-align: top;\n",
       "    }\n",
       "\n",
       "    .dataframe thead th {\n",
       "        text-align: right;\n",
       "    }\n",
       "</style>\n",
       "<table border=\"1\" class=\"dataframe\">\n",
       "  <thead>\n",
       "    <tr style=\"text-align: right;\">\n",
       "      <th></th>\n",
       "      <th>user_id</th>\n",
       "      <th>movie_id</th>\n",
       "    </tr>\n",
       "  </thead>\n",
       "  <tbody>\n",
       "    <tr>\n",
       "      <td>0</td>\n",
       "      <td>277844</td>\n",
       "      <td>0414931</td>\n",
       "    </tr>\n",
       "    <tr>\n",
       "      <td>1</td>\n",
       "      <td>277844</td>\n",
       "      <td>1167660</td>\n",
       "    </tr>\n",
       "    <tr>\n",
       "      <td>2</td>\n",
       "      <td>277844</td>\n",
       "      <td>1139800</td>\n",
       "    </tr>\n",
       "    <tr>\n",
       "      <td>3</td>\n",
       "      <td>277844</td>\n",
       "      <td>0064546</td>\n",
       "    </tr>\n",
       "    <tr>\n",
       "      <td>4</td>\n",
       "      <td>277844</td>\n",
       "      <td>0064265</td>\n",
       "    </tr>\n",
       "  </tbody>\n",
       "</table>\n",
       "</div>"
      ],
      "text/plain": [
       "   user_id movie_id\n",
       "0   277844  0414931\n",
       "1   277844  1167660\n",
       "2   277844  1139800\n",
       "3   277844  0064546\n",
       "4   277844  0064265"
      ]
     },
     "execution_count": 5,
     "metadata": {},
     "output_type": "execute_result"
    }
   ],
   "source": [
    "# store recommendations  into a dataframe\n",
    "user_ids = []\n",
    "rec_movie_ids = []\n",
    "\n",
    "for rec in recommendations:\n",
    "    for unit in rec[2]:\n",
    "        user_ids.append(rec[0])\n",
    "        rec_movie_ids.append(unit['ID'])\n",
    "\n",
    "# make df\n",
    "recommendations_df = pd.DataFrame({\n",
    "    'user_id': user_ids,\n",
    "    'movie_id': rec_movie_ids\n",
    "})\n",
    "print(recommendations_df.shape)\n",
    "recommendations_df.head()"
   ]
  },
  {
   "cell_type": "code",
   "execution_count": 6,
   "metadata": {},
   "outputs": [
    {
     "data": {
      "text/plain": [
       "301967"
      ]
     },
     "execution_count": 6,
     "metadata": {},
     "output_type": "execute_result"
    }
   ],
   "source": [
    "# get all movies from `imdb_movies` table\n",
    "cursor = connection.cursor()\n",
    "postgreSQL_select_Query = \"SELECT * FROM imdb_movies;\"\n",
    "cursor.execute(postgreSQL_select_Query)\n",
    "all_movies = cursor.fetchall()\n",
    "cursor.close()\n",
    "len(all_movies)"
   ]
  },
  {
   "cell_type": "code",
   "execution_count": 7,
   "metadata": {},
   "outputs": [
    {
     "data": {
      "text/plain": [
       "('1051218',\n",
       " 'tvMovie',\n",
       " 'Drei Dramolette: Claus Peymann kauft sich eine Hose und geht mit mir essen',\n",
       " 'Drei Dramolette: Claus Peymann kauft sich eine Hose und geht mit mir essen',\n",
       " 0,\n",
       " 2006,\n",
       " 99999,\n",
       " 80,\n",
       " 'Comedy',\n",
       " None,\n",
       " 8.2,\n",
       " 6,\n",
       " None,\n",
       " None)"
      ]
     },
     "execution_count": 7,
     "metadata": {},
     "output_type": "execute_result"
    }
   ],
   "source": [
    "all_movies[0]"
   ]
  },
  {
   "cell_type": "code",
   "execution_count": 8,
   "metadata": {
    "colab": {},
    "colab_type": "code",
    "id": "TbMA-PvOQN-G",
    "outputId": "f91fa26b-5b24-4879-83d5-706871008ffd"
   },
   "outputs": [
    {
     "name": "stdout",
     "output_type": "stream",
     "text": [
      "(301967, 9)\n"
     ]
    },
    {
     "data": {
      "text/html": [
       "<div>\n",
       "<style scoped>\n",
       "    .dataframe tbody tr th:only-of-type {\n",
       "        vertical-align: middle;\n",
       "    }\n",
       "\n",
       "    .dataframe tbody tr th {\n",
       "        vertical-align: top;\n",
       "    }\n",
       "\n",
       "    .dataframe thead th {\n",
       "        text-align: right;\n",
       "    }\n",
       "</style>\n",
       "<table border=\"1\" class=\"dataframe\">\n",
       "  <thead>\n",
       "    <tr style=\"text-align: right;\">\n",
       "      <th></th>\n",
       "      <th>movie_id</th>\n",
       "      <th>title_type</th>\n",
       "      <th>primary_title</th>\n",
       "      <th>original_title</th>\n",
       "      <th>is_adult</th>\n",
       "      <th>start_year</th>\n",
       "      <th>end_year</th>\n",
       "      <th>runtime_minutes</th>\n",
       "      <th>genres</th>\n",
       "    </tr>\n",
       "  </thead>\n",
       "  <tbody>\n",
       "    <tr>\n",
       "      <td>0</td>\n",
       "      <td>1051218</td>\n",
       "      <td>tvMovie</td>\n",
       "      <td>Drei Dramolette: Claus Peymann kauft sich eine...</td>\n",
       "      <td>Drei Dramolette: Claus Peymann kauft sich eine...</td>\n",
       "      <td>0</td>\n",
       "      <td>2006</td>\n",
       "      <td>99999</td>\n",
       "      <td>80</td>\n",
       "      <td>Comedy</td>\n",
       "    </tr>\n",
       "    <tr>\n",
       "      <td>1</td>\n",
       "      <td>1051231</td>\n",
       "      <td>movie</td>\n",
       "      <td>In the Hands of the Gods</td>\n",
       "      <td>In the Hands of the Gods</td>\n",
       "      <td>0</td>\n",
       "      <td>2007</td>\n",
       "      <td>99999</td>\n",
       "      <td>106</td>\n",
       "      <td>Documentary,Sport</td>\n",
       "    </tr>\n",
       "    <tr>\n",
       "      <td>2</td>\n",
       "      <td>10512418</td>\n",
       "      <td>movie</td>\n",
       "      <td>BADAMASI (Portrait of a General)</td>\n",
       "      <td>BADAMASI (Portrait of a General)</td>\n",
       "      <td>0</td>\n",
       "      <td>2019</td>\n",
       "      <td>99999</td>\n",
       "      <td>135</td>\n",
       "      <td>Biography,History,Thriller</td>\n",
       "    </tr>\n",
       "    <tr>\n",
       "      <td>3</td>\n",
       "      <td>1051244</td>\n",
       "      <td>movie</td>\n",
       "      <td>Mouled ya donia</td>\n",
       "      <td>Mouled ya donia</td>\n",
       "      <td>0</td>\n",
       "      <td>1975</td>\n",
       "      <td>99999</td>\n",
       "      <td>120</td>\n",
       "      <td>Musical</td>\n",
       "    </tr>\n",
       "    <tr>\n",
       "      <td>4</td>\n",
       "      <td>10505048</td>\n",
       "      <td>movie</td>\n",
       "      <td>My Wife and I</td>\n",
       "      <td>My Wife and I</td>\n",
       "      <td>0</td>\n",
       "      <td>2017</td>\n",
       "      <td>99999</td>\n",
       "      <td>100</td>\n",
       "      <td>\\N</td>\n",
       "    </tr>\n",
       "  </tbody>\n",
       "</table>\n",
       "</div>"
      ],
      "text/plain": [
       "   movie_id title_type                                      primary_title  \\\n",
       "0   1051218    tvMovie  Drei Dramolette: Claus Peymann kauft sich eine...   \n",
       "1   1051231      movie                           In the Hands of the Gods   \n",
       "2  10512418      movie                   BADAMASI (Portrait of a General)   \n",
       "3   1051244      movie                                    Mouled ya donia   \n",
       "4  10505048      movie                                      My Wife and I   \n",
       "\n",
       "                                      original_title  is_adult  start_year  \\\n",
       "0  Drei Dramolette: Claus Peymann kauft sich eine...         0        2006   \n",
       "1                           In the Hands of the Gods         0        2007   \n",
       "2                   BADAMASI (Portrait of a General)         0        2019   \n",
       "3                                    Mouled ya donia         0        1975   \n",
       "4                                      My Wife and I         0        2017   \n",
       "\n",
       "   end_year  runtime_minutes                      genres  \n",
       "0     99999               80                      Comedy  \n",
       "1     99999              106           Documentary,Sport  \n",
       "2     99999              135  Biography,History,Thriller  \n",
       "3     99999              120                     Musical  \n",
       "4     99999              100                          \\N  "
      ]
     },
     "execution_count": 8,
     "metadata": {},
     "output_type": "execute_result"
    }
   ],
   "source": [
    "import pandas as pd\n",
    "# make movie_df\n",
    "movie_id = []\n",
    "title_type = []\n",
    "primary_title = []\n",
    "original_title = []\n",
    "is_adult = []\n",
    "start_year = []\n",
    "end_year = []\n",
    "runtime = []\n",
    "genres = []\n",
    "\n",
    "for movie in all_movies:\n",
    "    movie_id.append(movie[0])\n",
    "    title_type.append(movie[1])\n",
    "    primary_title.append(movie[2])\n",
    "    original_title.append(movie[3])\n",
    "    is_adult.append(movie[4])\n",
    "    start_year.append(movie[5])\n",
    "    end_year.append(movie[6])\n",
    "    runtime.append(movie[7])\n",
    "    genres.append(movie[8])\n",
    "\n",
    "imdb_movies = pd.DataFrame({\n",
    "    'movie_id': movie_id,\n",
    "    'title_type': title_type,\n",
    "    'primary_title': primary_title,\n",
    "    'original_title': original_title,\n",
    "    'is_adult': is_adult,\n",
    "    'start_year': start_year,\n",
    "    'end_year': end_year,\n",
    "    'runtime_minutes': runtime,\n",
    "    'genres': genres\n",
    "})\n",
    "print(imdb_movies.shape)\n",
    "imdb_movies.head()"
   ]
  },
  {
   "cell_type": "code",
   "execution_count": 9,
   "metadata": {},
   "outputs": [
    {
     "data": {
      "text/plain": [
       "movie      263237\n",
       "tvMovie     38730\n",
       "Name: title_type, dtype: int64"
      ]
     },
     "execution_count": 9,
     "metadata": {},
     "output_type": "execute_result"
    }
   ],
   "source": [
    "# Take a closer look to the variable values\n",
    "# Possible values for title type\n",
    "imdb_movies['title_type'].value_counts().sort_index()"
   ]
  },
  {
   "cell_type": "code",
   "execution_count": 10,
   "metadata": {},
   "outputs": [
    {
     "name": "stdout",
     "output_type": "stream",
     "text": [
      "(52677, 9)\n"
     ]
    },
    {
     "data": {
      "text/html": [
       "<div>\n",
       "<style scoped>\n",
       "    .dataframe tbody tr th:only-of-type {\n",
       "        vertical-align: middle;\n",
       "    }\n",
       "\n",
       "    .dataframe tbody tr th {\n",
       "        vertical-align: top;\n",
       "    }\n",
       "\n",
       "    .dataframe thead th {\n",
       "        text-align: right;\n",
       "    }\n",
       "</style>\n",
       "<table border=\"1\" class=\"dataframe\">\n",
       "  <thead>\n",
       "    <tr style=\"text-align: right;\">\n",
       "      <th></th>\n",
       "      <th>movie_id</th>\n",
       "      <th>title_type</th>\n",
       "      <th>primary_title</th>\n",
       "      <th>original_title</th>\n",
       "      <th>is_adult</th>\n",
       "      <th>start_year</th>\n",
       "      <th>end_year</th>\n",
       "      <th>runtime_minutes</th>\n",
       "      <th>genres</th>\n",
       "    </tr>\n",
       "  </thead>\n",
       "  <tbody>\n",
       "    <tr>\n",
       "      <td>29</td>\n",
       "      <td>10515976</td>\n",
       "      <td>movie</td>\n",
       "      <td>Consolation</td>\n",
       "      <td>Pociecha</td>\n",
       "      <td>0</td>\n",
       "      <td>2016</td>\n",
       "      <td>99999</td>\n",
       "      <td>76</td>\n",
       "      <td>Drama</td>\n",
       "    </tr>\n",
       "    <tr>\n",
       "      <td>41</td>\n",
       "      <td>1051798</td>\n",
       "      <td>movie</td>\n",
       "      <td>The Cricket Girl</td>\n",
       "      <td>Kohorogi-jô</td>\n",
       "      <td>0</td>\n",
       "      <td>2007</td>\n",
       "      <td>99999</td>\n",
       "      <td>95</td>\n",
       "      <td>Drama</td>\n",
       "    </tr>\n",
       "    <tr>\n",
       "      <td>52</td>\n",
       "      <td>10516086</td>\n",
       "      <td>movie</td>\n",
       "      <td>Fidelity</td>\n",
       "      <td>Vernost</td>\n",
       "      <td>0</td>\n",
       "      <td>2019</td>\n",
       "      <td>99999</td>\n",
       "      <td>82</td>\n",
       "      <td>Drama</td>\n",
       "    </tr>\n",
       "    <tr>\n",
       "      <td>61</td>\n",
       "      <td>1051834</td>\n",
       "      <td>movie</td>\n",
       "      <td>Where the Rivers Flow Together</td>\n",
       "      <td>Kücälärä su sapmisäm</td>\n",
       "      <td>0</td>\n",
       "      <td>2004</td>\n",
       "      <td>99999</td>\n",
       "      <td>84</td>\n",
       "      <td>Drama</td>\n",
       "    </tr>\n",
       "    <tr>\n",
       "      <td>65</td>\n",
       "      <td>1051864</td>\n",
       "      <td>movie</td>\n",
       "      <td>Facing the Enemy</td>\n",
       "      <td>Rozhovor s nepriatel'om</td>\n",
       "      <td>0</td>\n",
       "      <td>2007</td>\n",
       "      <td>99999</td>\n",
       "      <td>124</td>\n",
       "      <td>Drama,History,War</td>\n",
       "    </tr>\n",
       "  </tbody>\n",
       "</table>\n",
       "</div>"
      ],
      "text/plain": [
       "    movie_id title_type                   primary_title  \\\n",
       "29  10515976      movie                     Consolation   \n",
       "41   1051798      movie                The Cricket Girl   \n",
       "52  10516086      movie                        Fidelity   \n",
       "61   1051834      movie  Where the Rivers Flow Together   \n",
       "65   1051864      movie                Facing the Enemy   \n",
       "\n",
       "             original_title  is_adult  start_year  end_year  runtime_minutes  \\\n",
       "29                 Pociecha         0        2016     99999               76   \n",
       "41              Kohorogi-jô         0        2007     99999               95   \n",
       "52                  Vernost         0        2019     99999               82   \n",
       "61     Kücälärä su sapmisäm         0        2004     99999               84   \n",
       "65  Rozhovor s nepriatel'om         0        2007     99999              124   \n",
       "\n",
       "               genres  \n",
       "29              Drama  \n",
       "41              Drama  \n",
       "52              Drama  \n",
       "61              Drama  \n",
       "65  Drama,History,War  "
      ]
     },
     "execution_count": 10,
     "metadata": {},
     "output_type": "execute_result"
    }
   ],
   "source": [
    "# Foreign movies (original title different than the primary title)\n",
    "condition = imdb_movies['primary_title']!=imdb_movies['original_title']\n",
    "print(imdb_movies[condition].shape)\n",
    "imdb_movies[condition].head()"
   ]
  },
  {
   "cell_type": "code",
   "execution_count": 11,
   "metadata": {},
   "outputs": [
    {
     "data": {
      "text/plain": [
       "52677"
      ]
     },
     "execution_count": 11,
     "metadata": {},
     "output_type": "execute_result"
    }
   ],
   "source": [
    "# Add a new column `foreign_movie` with values: 1-yes, 0-no\n",
    "def foreign(row):\n",
    "    if row['primary_title']==row['original_title']:\n",
    "        return 0\n",
    "    return 1\n",
    "\n",
    "imdb_movies['foreign_movie'] = imdb_movies.apply(lambda row: foreign(row), axis=1)\n",
    "\n",
    "# Check how many values of 1 (should be 52677)\n",
    "imdb_movies['foreign_movie'].sum()"
   ]
  },
  {
   "cell_type": "markdown",
   "metadata": {},
   "source": [
    "**Note:** There are still movies with foreign title.. come back to this column after adding language or country in the database"
   ]
  },
  {
   "cell_type": "code",
   "execution_count": 12,
   "metadata": {},
   "outputs": [
    {
     "data": {
      "text/plain": [
       "0    298186\n",
       "1      3781\n",
       "Name: is_adult, dtype: int64"
      ]
     },
     "execution_count": 12,
     "metadata": {},
     "output_type": "execute_result"
    }
   ],
   "source": [
    "# Possible values for `is_adult`\n",
    "imdb_movies['is_adult'].value_counts().sort_index()"
   ]
  },
  {
   "cell_type": "code",
   "execution_count": 13,
   "metadata": {},
   "outputs": [
    {
     "data": {
      "text/html": [
       "<div>\n",
       "<style scoped>\n",
       "    .dataframe tbody tr th:only-of-type {\n",
       "        vertical-align: middle;\n",
       "    }\n",
       "\n",
       "    .dataframe tbody tr th {\n",
       "        vertical-align: top;\n",
       "    }\n",
       "\n",
       "    .dataframe thead th {\n",
       "        text-align: right;\n",
       "    }\n",
       "</style>\n",
       "<table border=\"1\" class=\"dataframe\">\n",
       "  <thead>\n",
       "    <tr style=\"text-align: right;\">\n",
       "      <th></th>\n",
       "      <th>movie_id</th>\n",
       "      <th>title_type</th>\n",
       "      <th>primary_title</th>\n",
       "      <th>original_title</th>\n",
       "      <th>start_year</th>\n",
       "      <th>end_year</th>\n",
       "      <th>runtime_minutes</th>\n",
       "      <th>genres</th>\n",
       "      <th>foreign_movie</th>\n",
       "    </tr>\n",
       "  </thead>\n",
       "  <tbody>\n",
       "    <tr>\n",
       "      <td>181399</td>\n",
       "      <td>0068228</td>\n",
       "      <td>tvMovie</td>\n",
       "      <td>Assignment: Munich</td>\n",
       "      <td>Assignment: Munich</td>\n",
       "      <td>1972</td>\n",
       "      <td>99999</td>\n",
       "      <td>100</td>\n",
       "      <td>Action,Drama,Thriller</td>\n",
       "      <td>0</td>\n",
       "    </tr>\n",
       "    <tr>\n",
       "      <td>90535</td>\n",
       "      <td>0065086</td>\n",
       "      <td>movie</td>\n",
       "      <td>That Cold Day in the Park</td>\n",
       "      <td>That Cold Day in the Park</td>\n",
       "      <td>1969</td>\n",
       "      <td>99999</td>\n",
       "      <td>113</td>\n",
       "      <td>Drama,Thriller</td>\n",
       "      <td>0</td>\n",
       "    </tr>\n",
       "    <tr>\n",
       "      <td>138815</td>\n",
       "      <td>7715202</td>\n",
       "      <td>movie</td>\n",
       "      <td>Sarkar</td>\n",
       "      <td>Sarkar</td>\n",
       "      <td>2018</td>\n",
       "      <td>99999</td>\n",
       "      <td>163</td>\n",
       "      <td>Action,Drama</td>\n",
       "      <td>0</td>\n",
       "    </tr>\n",
       "    <tr>\n",
       "      <td>167873</td>\n",
       "      <td>0046432</td>\n",
       "      <td>movie</td>\n",
       "      <td>Terror on a Train</td>\n",
       "      <td>Time Bomb</td>\n",
       "      <td>1953</td>\n",
       "      <td>99999</td>\n",
       "      <td>72</td>\n",
       "      <td>Crime,Film-Noir,Thriller</td>\n",
       "      <td>1</td>\n",
       "    </tr>\n",
       "    <tr>\n",
       "      <td>231973</td>\n",
       "      <td>0202461</td>\n",
       "      <td>movie</td>\n",
       "      <td>Maluala</td>\n",
       "      <td>Maluala</td>\n",
       "      <td>1979</td>\n",
       "      <td>99999</td>\n",
       "      <td>84</td>\n",
       "      <td>\\N</td>\n",
       "      <td>0</td>\n",
       "    </tr>\n",
       "  </tbody>\n",
       "</table>\n",
       "</div>"
      ],
      "text/plain": [
       "       movie_id title_type              primary_title  \\\n",
       "181399  0068228    tvMovie         Assignment: Munich   \n",
       "90535   0065086      movie  That Cold Day in the Park   \n",
       "138815  7715202      movie                     Sarkar   \n",
       "167873  0046432      movie          Terror on a Train   \n",
       "231973  0202461      movie                    Maluala   \n",
       "\n",
       "                   original_title  start_year  end_year  runtime_minutes  \\\n",
       "181399         Assignment: Munich        1972     99999              100   \n",
       "90535   That Cold Day in the Park        1969     99999              113   \n",
       "138815                     Sarkar        2018     99999              163   \n",
       "167873                  Time Bomb        1953     99999               72   \n",
       "231973                    Maluala        1979     99999               84   \n",
       "\n",
       "                          genres  foreign_movie  \n",
       "181399     Action,Drama,Thriller              0  \n",
       "90535             Drama,Thriller              0  \n",
       "138815              Action,Drama              0  \n",
       "167873  Crime,Film-Noir,Thriller              1  \n",
       "231973                        \\N              0  "
      ]
     },
     "execution_count": 13,
     "metadata": {},
     "output_type": "execute_result"
    }
   ],
   "source": [
    "# Only 1% of the movies are adult movies, so drop this column as it doesn't bring valuable information\n",
    "imdb_movies = imdb_movies.drop(['is_adult'], axis=1)\n",
    "imdb_movies.sample(5)"
   ]
  },
  {
   "cell_type": "code",
   "execution_count": 14,
   "metadata": {},
   "outputs": [
    {
     "data": {
      "text/plain": [
       "1899        1\n",
       "1905        1\n",
       "1908        2\n",
       "1909        1\n",
       "1910        4\n",
       "         ... \n",
       "2021       56\n",
       "2022       14\n",
       "2023        2\n",
       "2024        1\n",
       "99999    4541\n",
       "Name: start_year, Length: 120, dtype: int64"
      ]
     },
     "execution_count": 14,
     "metadata": {},
     "output_type": "execute_result"
    }
   ],
   "source": [
    "# Possible values for `start_year`\n",
    "imdb_movies['start_year'].value_counts().sort_index()"
   ]
  },
  {
   "cell_type": "code",
   "execution_count": 15,
   "metadata": {},
   "outputs": [
    {
     "data": {
      "text/plain": [
       "1899.0       1\n",
       "1905.0       1\n",
       "1908.0       2\n",
       "1909.0       1\n",
       "1910.0       4\n",
       "          ... \n",
       "2020.0    1010\n",
       "2021.0      56\n",
       "2022.0      14\n",
       "2023.0       2\n",
       "2024.0       1\n",
       "Name: start_year, Length: 119, dtype: int64"
      ]
     },
     "execution_count": 15,
     "metadata": {},
     "output_type": "execute_result"
    }
   ],
   "source": [
    "# Replace 99999 with NaN\n",
    "imdb_movies.replace(99999, np.nan, inplace=True)\n",
    "imdb_movies['start_year'].value_counts().sort_index()"
   ]
  },
  {
   "cell_type": "code",
   "execution_count": 16,
   "metadata": {},
   "outputs": [
    {
     "data": {
      "text/plain": [
       "1990.0    1\n",
       "Name: end_year, dtype: int64"
      ]
     },
     "execution_count": 16,
     "metadata": {},
     "output_type": "execute_result"
    }
   ],
   "source": [
    "# Possible values for `end_year`\n",
    "imdb_movies['end_year'].value_counts().sort_index()"
   ]
  },
  {
   "cell_type": "code",
   "execution_count": 17,
   "metadata": {},
   "outputs": [
    {
     "data": {
      "text/html": [
       "<div>\n",
       "<style scoped>\n",
       "    .dataframe tbody tr th:only-of-type {\n",
       "        vertical-align: middle;\n",
       "    }\n",
       "\n",
       "    .dataframe tbody tr th {\n",
       "        vertical-align: top;\n",
       "    }\n",
       "\n",
       "    .dataframe thead th {\n",
       "        text-align: right;\n",
       "    }\n",
       "</style>\n",
       "<table border=\"1\" class=\"dataframe\">\n",
       "  <thead>\n",
       "    <tr style=\"text-align: right;\">\n",
       "      <th></th>\n",
       "      <th>movie_id</th>\n",
       "      <th>title_type</th>\n",
       "      <th>primary_title</th>\n",
       "      <th>original_title</th>\n",
       "      <th>start_year</th>\n",
       "      <th>runtime_minutes</th>\n",
       "      <th>genres</th>\n",
       "      <th>foreign_movie</th>\n",
       "    </tr>\n",
       "  </thead>\n",
       "  <tbody>\n",
       "    <tr>\n",
       "      <td>59597</td>\n",
       "      <td>3147798</td>\n",
       "      <td>tvMovie</td>\n",
       "      <td>Yunona i Avos</td>\n",
       "      <td>Yunona i Avos</td>\n",
       "      <td>1983.0</td>\n",
       "      <td>83</td>\n",
       "      <td>Drama,Music,Musical</td>\n",
       "      <td>0</td>\n",
       "    </tr>\n",
       "    <tr>\n",
       "      <td>276121</td>\n",
       "      <td>0449527</td>\n",
       "      <td>movie</td>\n",
       "      <td>Once Upon a Midnight Dreary</td>\n",
       "      <td>Once Upon a Midnight Dreary</td>\n",
       "      <td>2003.0</td>\n",
       "      <td>112</td>\n",
       "      <td>Thriller</td>\n",
       "      <td>0</td>\n",
       "    </tr>\n",
       "    <tr>\n",
       "      <td>109671</td>\n",
       "      <td>2125598</td>\n",
       "      <td>movie</td>\n",
       "      <td>Retrato</td>\n",
       "      <td>Retrato</td>\n",
       "      <td>2004.0</td>\n",
       "      <td>83</td>\n",
       "      <td>Documentary</td>\n",
       "      <td>0</td>\n",
       "    </tr>\n",
       "    <tr>\n",
       "      <td>237552</td>\n",
       "      <td>0231820</td>\n",
       "      <td>movie</td>\n",
       "      <td>Jestrab kontra Hrdlicka</td>\n",
       "      <td>Jestrab kontra Hrdlicka</td>\n",
       "      <td>1953.0</td>\n",
       "      <td>100</td>\n",
       "      <td>Drama</td>\n",
       "      <td>0</td>\n",
       "    </tr>\n",
       "    <tr>\n",
       "      <td>163912</td>\n",
       "      <td>2501052</td>\n",
       "      <td>movie</td>\n",
       "      <td>Finding Mercy</td>\n",
       "      <td>Finding Mercy</td>\n",
       "      <td>2012.0</td>\n",
       "      <td>75</td>\n",
       "      <td>Documentary</td>\n",
       "      <td>0</td>\n",
       "    </tr>\n",
       "  </tbody>\n",
       "</table>\n",
       "</div>"
      ],
      "text/plain": [
       "       movie_id title_type                primary_title  \\\n",
       "59597   3147798    tvMovie                Yunona i Avos   \n",
       "276121  0449527      movie  Once Upon a Midnight Dreary   \n",
       "109671  2125598      movie                      Retrato   \n",
       "237552  0231820      movie      Jestrab kontra Hrdlicka   \n",
       "163912  2501052      movie                Finding Mercy   \n",
       "\n",
       "                     original_title  start_year  runtime_minutes  \\\n",
       "59597                 Yunona i Avos      1983.0               83   \n",
       "276121  Once Upon a Midnight Dreary      2003.0              112   \n",
       "109671                      Retrato      2004.0               83   \n",
       "237552      Jestrab kontra Hrdlicka      1953.0              100   \n",
       "163912                Finding Mercy      2012.0               75   \n",
       "\n",
       "                     genres  foreign_movie  \n",
       "59597   Drama,Music,Musical              0  \n",
       "276121             Thriller              0  \n",
       "109671          Documentary              0  \n",
       "237552                Drama              0  \n",
       "163912          Documentary              0  "
      ]
     },
     "execution_count": 17,
     "metadata": {},
     "output_type": "execute_result"
    }
   ],
   "source": [
    "# Only 1 movie in the database has an actual value for `end_year`\n",
    "# Drop this column\n",
    "imdb_movies = imdb_movies.drop(['end_year'], axis=1)\n",
    "imdb_movies.sample(5)"
   ]
  },
  {
   "cell_type": "code",
   "execution_count": 18,
   "metadata": {},
   "outputs": [
    {
     "data": {
      "text/plain": [
       "71       2849\n",
       "72       4049\n",
       "73       3392\n",
       "74       3235\n",
       "75       7839\n",
       "         ... \n",
       "6000        1\n",
       "9000        1\n",
       "10062       1\n",
       "14400       1\n",
       "51420       1\n",
       "Name: runtime_minutes, Length: 416, dtype: int64"
      ]
     },
     "execution_count": 18,
     "metadata": {},
     "output_type": "execute_result"
    }
   ],
   "source": [
    "# Possible values for `runtime_minutes`\n",
    "imdb_movies['runtime_minutes'].value_counts().sort_index()"
   ]
  },
  {
   "cell_type": "code",
   "execution_count": 19,
   "metadata": {},
   "outputs": [
    {
     "data": {
      "text/plain": [
       "Action                     4166\n",
       "Action,Adult                  7\n",
       "Action,Adult,Adventure        1\n",
       "Action,Adult,Comedy           3\n",
       "Action,Adult,Crime            8\n",
       "                          ...  \n",
       "Thriller,Western             10\n",
       "War                         517\n",
       "War,Western                   6\n",
       "Western                    1179\n",
       "\\N                        16647\n",
       "Name: genres, Length: 1268, dtype: int64"
      ]
     },
     "execution_count": 19,
     "metadata": {},
     "output_type": "execute_result"
    }
   ],
   "source": [
    "# Possible values for `genres`\n",
    "imdb_movies['genres'].value_counts().sort_index()"
   ]
  },
  {
   "cell_type": "code",
   "execution_count": 21,
   "metadata": {},
   "outputs": [
    {
     "data": {
      "text/plain": [
       "Action                    4166\n",
       "Action,Adult                 7\n",
       "Action,Adult,Adventure       1\n",
       "Action,Adult,Comedy          3\n",
       "Action,Adult,Crime           8\n",
       "                          ... \n",
       "Thriller,War                30\n",
       "Thriller,Western            10\n",
       "War                        517\n",
       "War,Western                  6\n",
       "Western                   1179\n",
       "Name: genres, Length: 1267, dtype: int64"
      ]
     },
     "execution_count": 21,
     "metadata": {},
     "output_type": "execute_result"
    }
   ],
   "source": [
    "# Replace \\N with NaN\n",
    "imdb_movies.replace('\\\\N', np.nan, inplace=True)\n",
    "imdb_movies['genres'].value_counts().sort_index()"
   ]
  },
  {
   "cell_type": "code",
   "execution_count": 22,
   "metadata": {
    "colab": {},
    "colab_type": "code",
    "id": "W8icVneHQN-Q",
    "outputId": "64321d22-4491-41de-9605-14bfcc046c5d"
   },
   "outputs": [
    {
     "name": "stdout",
     "output_type": "stream",
     "text": [
      "(6903, 9)\n"
     ]
    },
    {
     "data": {
      "text/html": [
       "<div>\n",
       "<style scoped>\n",
       "    .dataframe tbody tr th:only-of-type {\n",
       "        vertical-align: middle;\n",
       "    }\n",
       "\n",
       "    .dataframe tbody tr th {\n",
       "        vertical-align: top;\n",
       "    }\n",
       "\n",
       "    .dataframe thead th {\n",
       "        text-align: right;\n",
       "    }\n",
       "</style>\n",
       "<table border=\"1\" class=\"dataframe\">\n",
       "  <thead>\n",
       "    <tr style=\"text-align: right;\">\n",
       "      <th></th>\n",
       "      <th>user_id</th>\n",
       "      <th>movie_id</th>\n",
       "      <th>title_type</th>\n",
       "      <th>primary_title</th>\n",
       "      <th>original_title</th>\n",
       "      <th>start_year</th>\n",
       "      <th>runtime_minutes</th>\n",
       "      <th>genres</th>\n",
       "      <th>foreign_movie</th>\n",
       "    </tr>\n",
       "  </thead>\n",
       "  <tbody>\n",
       "    <tr>\n",
       "      <td>0</td>\n",
       "      <td>277844</td>\n",
       "      <td>0414931</td>\n",
       "      <td>movie</td>\n",
       "      <td>Breaking News</td>\n",
       "      <td>Dai si gin</td>\n",
       "      <td>2004.0</td>\n",
       "      <td>90</td>\n",
       "      <td>Action,Crime,Drama</td>\n",
       "      <td>1</td>\n",
       "    </tr>\n",
       "    <tr>\n",
       "      <td>1</td>\n",
       "      <td>277844</td>\n",
       "      <td>0414931</td>\n",
       "      <td>movie</td>\n",
       "      <td>Breaking News</td>\n",
       "      <td>Dai si gin</td>\n",
       "      <td>2004.0</td>\n",
       "      <td>90</td>\n",
       "      <td>Action,Crime,Drama</td>\n",
       "      <td>1</td>\n",
       "    </tr>\n",
       "    <tr>\n",
       "      <td>2</td>\n",
       "      <td>284162</td>\n",
       "      <td>0414931</td>\n",
       "      <td>movie</td>\n",
       "      <td>Breaking News</td>\n",
       "      <td>Dai si gin</td>\n",
       "      <td>2004.0</td>\n",
       "      <td>90</td>\n",
       "      <td>Action,Crime,Drama</td>\n",
       "      <td>1</td>\n",
       "    </tr>\n",
       "    <tr>\n",
       "      <td>3</td>\n",
       "      <td>314295</td>\n",
       "      <td>0414931</td>\n",
       "      <td>movie</td>\n",
       "      <td>Breaking News</td>\n",
       "      <td>Dai si gin</td>\n",
       "      <td>2004.0</td>\n",
       "      <td>90</td>\n",
       "      <td>Action,Crime,Drama</td>\n",
       "      <td>1</td>\n",
       "    </tr>\n",
       "    <tr>\n",
       "      <td>4</td>\n",
       "      <td>314306</td>\n",
       "      <td>0414931</td>\n",
       "      <td>movie</td>\n",
       "      <td>Breaking News</td>\n",
       "      <td>Dai si gin</td>\n",
       "      <td>2004.0</td>\n",
       "      <td>90</td>\n",
       "      <td>Action,Crime,Drama</td>\n",
       "      <td>1</td>\n",
       "    </tr>\n",
       "  </tbody>\n",
       "</table>\n",
       "</div>"
      ],
      "text/plain": [
       "   user_id movie_id title_type  primary_title original_title  start_year  \\\n",
       "0   277844  0414931      movie  Breaking News     Dai si gin      2004.0   \n",
       "1   277844  0414931      movie  Breaking News     Dai si gin      2004.0   \n",
       "2   284162  0414931      movie  Breaking News     Dai si gin      2004.0   \n",
       "3   314295  0414931      movie  Breaking News     Dai si gin      2004.0   \n",
       "4   314306  0414931      movie  Breaking News     Dai si gin      2004.0   \n",
       "\n",
       "   runtime_minutes              genres  foreign_movie  \n",
       "0               90  Action,Crime,Drama              1  \n",
       "1               90  Action,Crime,Drama              1  \n",
       "2               90  Action,Crime,Drama              1  \n",
       "3               90  Action,Crime,Drama              1  \n",
       "4               90  Action,Crime,Drama              1  "
      ]
     },
     "execution_count": 22,
     "metadata": {},
     "output_type": "execute_result"
    }
   ],
   "source": [
    "# add movie information to the recommendations_df\n",
    "recommendations_df = pd.merge(recommendations_df, imdb_movies, on='movie_id', how='inner')\n",
    "print(recommendations_df.shape)\n",
    "recommendations_df.head()"
   ]
  },
  {
   "cell_type": "code",
   "execution_count": 23,
   "metadata": {},
   "outputs": [
    {
     "data": {
      "text/plain": [
       "user_id              int64\n",
       "movie_id            object\n",
       "title_type          object\n",
       "primary_title       object\n",
       "original_title      object\n",
       "start_year         float64\n",
       "runtime_minutes      int64\n",
       "genres              object\n",
       "foreign_movie        int64\n",
       "dtype: object"
      ]
     },
     "execution_count": 23,
     "metadata": {},
     "output_type": "execute_result"
    }
   ],
   "source": [
    "# Get column types\n",
    "recommendations_df.dtypes"
   ]
  },
  {
   "cell_type": "code",
   "execution_count": 25,
   "metadata": {
    "colab": {},
    "colab_type": "code",
    "id": "0wzlTYFvQN-d",
    "outputId": "b1ff5718-6cca-4cd5-f3c9-6bb1e71146ff"
   },
   "outputs": [
    {
     "data": {
      "text/plain": [
       "78"
      ]
     },
     "execution_count": 25,
     "metadata": {},
     "output_type": "execute_result"
    }
   ],
   "source": [
    "user_recs = recommendations_df.groupby(by='user_id')\n",
    "len(user_recs)"
   ]
  },
  {
   "cell_type": "code",
   "execution_count": 27,
   "metadata": {
    "colab": {},
    "colab_type": "code",
    "id": "QPHTOuPJQN-g",
    "outputId": "6f40acef-98a9-424c-8ace-56b08bc030bf"
   },
   "outputs": [
    {
     "name": "stdout",
     "output_type": "stream",
     "text": [
      "{'Comedy': 36, 'Drama': 74, 'Romance': 14, 'Crime': 10, 'Thriller': 8, 'Adventure': 5, 'War': 10, 'Film-Noir': 6, 'Music': 3, 'Documentary': 3, 'Mystery': 3}\n"
     ]
    },
    {
     "data": {
      "image/png": "[encoded data removed]",
      "text/plain": [
       "<Figure size 432x288 with 1 Axes>"
      ]
     },
     "metadata": {
      "needs_background": "light"
     },
     "output_type": "display_data"
    },
    {
     "name": "stdout",
     "output_type": "stream",
     "text": [
      "{'Action': 17, 'Adventure': 14, 'Thriller': 14, 'Drama': 19, 'Horror': 10, 'Animation': 2, 'Mystery': 5, 'Biography': 1, 'History': 1, 'Music': 3, 'Romance': 3, 'Comedy': 4, 'Crime': 6, 'Documentary': 1, 'Sci-Fi': 7, 'Fantasy': 4, 'Family': 2, 'Western': 2, 'War': 1}\n"
     ]
    },
    {
     "data": {
      "image/png": "[encoded data removed]",
      "text/plain": [
       "<Figure size 432x288 with 1 Axes>"
      ]
     },
     "metadata": {
      "needs_background": "light"
     },
     "output_type": "display_data"
    },
    {
     "name": "stdout",
     "output_type": "stream",
     "text": [
      "{'Comedy': 64, 'Drama': 130, 'Fantasy': 16, 'Romance': 26, 'Adventure': 15, 'Biography': 7, 'Crime': 18, 'Thriller': 8, 'War': 16, 'Film-Noir': 11, 'Music': 6, 'Mystery': 16, 'Horror': 1}\n"
     ]
    },
    {
     "data": {
      "image/png": "[encoded data removed]",
      "text/plain": [
       "<Figure size 432x288 with 1 Axes>"
      ]
     },
     "metadata": {
      "needs_background": "light"
     },
     "output_type": "display_data"
    },
    {
     "name": "stdout",
     "output_type": "stream",
     "text": [
      "{'Comedy': 61, 'Drama': 198, 'Fantasy': 16, 'Romance': 29, 'War': 27, 'Adventure': 16, 'Biography': 4, 'Crime': 20, 'Thriller': 8, 'Mystery': 9, 'Music': 2, 'Film-Noir': 26, 'Documentary': 8, 'Action': 1}\n"
     ]
    },
    {
     "data": {
      "image/png": "[encoded data removed]",
      "text/plain": [
       "<Figure size 432x288 with 1 Axes>"
      ]
     },
     "metadata": {
      "needs_background": "light"
     },
     "output_type": "display_data"
    },
    {
     "name": "stdout",
     "output_type": "stream",
     "text": [
      "{'Action': 34, 'Adventure': 26, 'Thriller': 18, 'Drama': 54, 'Biography': 10, 'History': 6, 'Music': 4, 'Romance': 12, 'Documentary': 4, 'Crime': 12, 'Fantasy': 10, 'Mystery': 8, 'Sci-Fi': 4, 'War': 10, 'Family': 6, 'Animation': 6, 'Comedy': 8}\n"
     ]
    },
    {
     "data": {
      "image/png": "[encoded data removed]",
      "text/plain": [
       "<Figure size 432x288 with 1 Axes>"
      ]
     },
     "metadata": {
      "needs_background": "light"
     },
     "output_type": "display_data"
    }
   ],
   "source": [
    "# get scaler values\n",
    "counter = 0\n",
    "for user, data in user_recs:\n",
    "    genre_counts = {}\n",
    "    for genre_string in data['genres'].values:\n",
    "        genres = genre_string.split(',')\n",
    "        for genre in genres:\n",
    "            if genre in genre_counts:\n",
    "                genre_counts[genre] += 1\n",
    "            else:\n",
    "                genre_counts[genre] = 1\n",
    "    print(genre_counts)\n",
    "    plt.bar(range(len(genre_counts)), genre_counts.values())\n",
    "    plt.xticks(range(len(genre_counts)), genre_counts.keys(), rotation=90)\n",
    "    plt.show()\n",
    "    counter += 1\n",
    "    if counter == 5:\n",
    "        break"
   ]
  },
  {
   "cell_type": "markdown",
   "metadata": {},
   "source": [
    "-------"
   ]
  },
  {
   "cell_type": "markdown",
   "metadata": {},
   "source": [
    "------"
   ]
  },
  {
   "cell_type": "markdown",
   "metadata": {},
   "source": [
    "### Ben de Vera's code"
   ]
  },
  {
   "cell_type": "markdown",
   "metadata": {},
   "source": [
    "-----"
   ]
  },
  {
   "cell_type": "markdown",
   "metadata": {},
   "source": [
    "### Scalar value ideas for dashboard:\n",
    "`could try to emulate https://ncov19.us/ top bar`\n",
    "- avg rating of recommendations/movies you liked\n",
    "- avg year of recommendations \n",
    "- \"Your decade\" (ex 80s) generated from recommendations\n",
    "- three favorite genres (or two favorite genres and one recommendation)\n",
    "\n",
    "### Chart ideas for dashboard:\n",
    "- genre distribution of your watchlist or recommendation list\n",
    "- avg rating for each genre in your ratings\n",
    "\n",
    "### Random notes:\n",
    "- recommendations table should be adjusted, each row should be a single movie\n",
    "- it would make it so that movie_id is all we need to store (with user_id)\n",
    "- then to get all movie data we just JOIN on imdb_movies \n",
    "- because of the structure some of the processes are slowed down by being required to get movie_data one movie at a time"
   ]
  },
  {
   "cell_type": "code",
   "execution_count": null,
   "metadata": {
    "colab": {},
    "colab_type": "code",
    "id": "Wp5Kop3DQN-i"
   },
   "outputs": [],
   "source": [
    "# refactor to a function \n",
    "\"\"\"\n",
    "Currently gets user dashboard data\n",
    "relating to recommendations made to the user\n",
    "\n",
    "Because the movie data in recommendations is stored\n",
    "in a JSON object this function is required to get the additional\n",
    "movie data one by one rather than JOIN the movie data on the \n",
    "initial select query. Should adjust how recommendations are stored to \n",
    "improve speed\n",
    "\"\"\"\n",
    "def get_user_dashboard_data(user_id):\n",
    "    cursor = connection.cursor()\n",
    "    query = f\"SELECT * FROM recommendations WHERE user_id = {user_id};\"\n",
    "    cursor.execute(query)\n",
    "    recommendations = cursor.fetchall()\n",
    "    \n",
    "    rec_ids = []\n",
    "    rec_titles = []\n",
    "    rec_years = []\n",
    "    rec_ratings = []\n",
    "    rec_votes = []\n",
    "    rec_movie_ids = []\n",
    "    # rec_gems = []\n",
    "    # dates = []\n",
    "    genres = []\n",
    "    # don't think it's needed\n",
    "    # model_types = []\n",
    "\n",
    "    for rec in recommendations:\n",
    "        for unit in rec[2]:\n",
    "            movie_query = f\"SELECT genres FROM imdb_movies WHERE movie_id = '{unit['ID']}';\"\n",
    "            cursor.execute(movie_query)\n",
    "            movie_data = cursor.fetchone()\n",
    "            rec_ids.append(rec[1])\n",
    "            rec_titles.append(unit['Title'])\n",
    "            rec_years.append(unit['Year'])\n",
    "            rec_ratings.append(unit['Mean Rating'])\n",
    "            rec_votes.append(unit['Votes'])\n",
    "            rec_movie_ids.append(unit['ID'])\n",
    "            genres.append(movie_data[0])\n",
    "            # rec_gems.append(unit['Gem'])\n",
    "            # dates.append(rec[3])\n",
    "            # model_types.append(rec[4])\n",
    "            \n",
    "    cursor.close()\n",
    "    data = pd.DataFrame({\n",
    "        'rec_id': rec_ids,\n",
    "        'title': rec_titles,\n",
    "        'year': rec_years,\n",
    "        'avg_rating': rec_ratings,\n",
    "        'votes': rec_votes,\n",
    "        'movie_id': rec_movie_ids,\n",
    "        'genres': genres\n",
    "    })\n",
    "    \n",
    "    genre_counts = {}\n",
    "    for genre_string in data['genres'].values:\n",
    "        genres = genre_string.split(',')\n",
    "        for genre in genres:\n",
    "            if genre in genre_counts:\n",
    "                genre_counts[genre] += 1\n",
    "            else:\n",
    "                genre_counts[genre] = 1\n",
    "    plt.bar(range(len(genre_counts)), genre_counts.values())\n",
    "    plt.xticks(range(len(genre_counts)), genre_counts.keys(), rotation=90)\n",
    "    plt.show()\n",
    "    top_three = nlargest(3, genre_counts, key=genre_counts.get) \n",
    "    for key in top_three:\n",
    "        print(f\"{key}: {genre_counts[key]}\")\n",
    "    return round(data['avg_rating'].mean(), 2), int(data['year'].mean())"
   ]
  },
  {
   "cell_type": "code",
   "execution_count": null,
   "metadata": {
    "colab": {},
    "colab_type": "code",
    "id": "_MjRnJZDQN-k",
    "outputId": "bf72599a-db15-4bce-cfab-d5fedef8a853"
   },
   "outputs": [
    {
     "data": {
      "image/png": "[encoded data removed]",
      "text/plain": [
       "<Figure size 432x288 with 1 Axes>"
      ]
     },
     "metadata": {
      "needs_background": "light",
      "tags": []
     },
     "output_type": "display_data"
    },
    {
     "name": "stdout",
     "output_type": "stream",
     "text": [
      "Drama: 74\n",
      "Comedy: 36\n",
      "Romance: 14\n"
     ]
    },
    {
     "data": {
      "text/plain": [
       "(7.73, 1970)"
      ]
     },
     "execution_count": 19,
     "metadata": {
      "tags": []
     },
     "output_type": "execute_result"
    }
   ],
   "source": [
    "get_user_dashboard_data(1)"
   ]
  },
  {
   "cell_type": "markdown",
   "metadata": {
    "colab_type": "text",
    "id": "nMFFtDToQN-m"
   },
   "source": [
    "## Rating Exploration"
   ]
  },
  {
   "cell_type": "code",
   "execution_count": null,
   "metadata": {
    "colab": {},
    "colab_type": "code",
    "id": "xppq2HcDQN-m",
    "outputId": "945184d9-36a7-4708-c279-a70ad2c5c38d"
   },
   "outputs": [
    {
     "data": {
      "text/plain": [
       "20337"
      ]
     },
     "execution_count": 24,
     "metadata": {
      "tags": []
     },
     "output_type": "execute_result"
    }
   ],
   "source": [
    "# get all ratings\n",
    "cursor = connection.cursor()\n",
    "query = 'SELECT user_id, name, year, rating, id FROM user_imdb_ratings;'\n",
    "cursor.execute(query)\n",
    "ratings = cursor.fetchall()\n",
    "cursor.close()\n",
    "len(ratings)"
   ]
  },
  {
   "cell_type": "code",
   "execution_count": null,
   "metadata": {
    "colab": {},
    "colab_type": "code",
    "id": "hdA9Qe1oQN-o",
    "outputId": "7ae25545-0d3a-419c-cf52-010e579e8f77"
   },
   "outputs": [
    {
     "name": "stdout",
     "output_type": "stream",
     "text": [
      "(20337, 5)\n"
     ]
    },
    {
     "data": {
      "text/html": [
       "<div>\n",
       "<style scoped>\n",
       "    .dataframe tbody tr th:only-of-type {\n",
       "        vertical-align: middle;\n",
       "    }\n",
       "\n",
       "    .dataframe tbody tr th {\n",
       "        vertical-align: top;\n",
       "    }\n",
       "\n",
       "    .dataframe thead th {\n",
       "        text-align: right;\n",
       "    }\n",
       "</style>\n",
       "<table border=\"1\" class=\"dataframe\">\n",
       "  <thead>\n",
       "    <tr style=\"text-align: right;\">\n",
       "      <th></th>\n",
       "      <th>user_id</th>\n",
       "      <th>title</th>\n",
       "      <th>year</th>\n",
       "      <th>rating</th>\n",
       "      <th>movie_id</th>\n",
       "    </tr>\n",
       "  </thead>\n",
       "  <tbody>\n",
       "    <tr>\n",
       "      <td>0</td>\n",
       "      <td>11</td>\n",
       "      <td>Rear Window</td>\n",
       "      <td>1954</td>\n",
       "      <td>5.0</td>\n",
       "      <td>1323</td>\n",
       "    </tr>\n",
       "    <tr>\n",
       "      <td>1</td>\n",
       "      <td>11</td>\n",
       "      <td>Ran</td>\n",
       "      <td>1985</td>\n",
       "      <td>4.5</td>\n",
       "      <td>1938</td>\n",
       "    </tr>\n",
       "    <tr>\n",
       "      <td>2</td>\n",
       "      <td>11</td>\n",
       "      <td>Badlands</td>\n",
       "      <td>1973</td>\n",
       "      <td>4.5</td>\n",
       "      <td>2390</td>\n",
       "    </tr>\n",
       "    <tr>\n",
       "      <td>3</td>\n",
       "      <td>11</td>\n",
       "      <td>It</td>\n",
       "      <td>2017</td>\n",
       "      <td>4.5</td>\n",
       "      <td>2817</td>\n",
       "    </tr>\n",
       "    <tr>\n",
       "      <td>4</td>\n",
       "      <td>11</td>\n",
       "      <td>The Help</td>\n",
       "      <td>2011</td>\n",
       "      <td>4.5</td>\n",
       "      <td>5027</td>\n",
       "    </tr>\n",
       "  </tbody>\n",
       "</table>\n",
       "</div>"
      ],
      "text/plain": [
       "   user_id        title  year  rating movie_id\n",
       "0       11  Rear Window  1954     5.0     1323\n",
       "1       11          Ran  1985     4.5     1938\n",
       "2       11     Badlands  1973     4.5     2390\n",
       "3       11           It  2017     4.5     2817\n",
       "4       11     The Help  2011     4.5     5027"
      ]
     },
     "execution_count": 25,
     "metadata": {
      "tags": []
     },
     "output_type": "execute_result"
    }
   ],
   "source": [
    "# make ratings data into df\n",
    "user_ids = []\n",
    "names = []\n",
    "years = []\n",
    "user_ratings = []\n",
    "movie_ids = []\n",
    "\n",
    "for rating in ratings:\n",
    "    user_ids.append(rating[0])\n",
    "    names.append(rating[1])\n",
    "    years.append(rating[2])\n",
    "    user_ratings.append(rating[3])\n",
    "    movie_ids.append(str(rating[4]))\n",
    "\n",
    "ratings_df = pd.DataFrame({\n",
    "    'user_id': user_ids,\n",
    "    'title': names,\n",
    "    'year': years,\n",
    "    'rating': user_ratings,\n",
    "    'movie_id': movie_ids\n",
    "})\n",
    "print(ratings_df.shape)\n",
    "ratings_df.head()"
   ]
  },
  {
   "cell_type": "code",
   "execution_count": null,
   "metadata": {
    "colab": {},
    "colab_type": "code",
    "id": "-NYQ1spaQN-q",
    "outputId": "371654c3-86e3-43f0-b8a7-0da119c57134"
   },
   "outputs": [
    {
     "name": "stdout",
     "output_type": "stream",
     "text": [
      "1323\n",
      "11293\n",
      "121\n",
      "1\n",
      "10\n"
     ]
    },
    {
     "data": {
      "text/plain": [
       "{4: 9000, 5: 10338, 3: 900, 1: 9, 2: 90}"
      ]
     },
     "execution_count": 26,
     "metadata": {
      "tags": []
     },
     "output_type": "execute_result"
    }
   ],
   "source": [
    "# get len of all movie_ids in ratings_df\n",
    "lengths = {}\n",
    "\n",
    "for movie_id in ratings_df['movie_id'].values:\n",
    "    if len(movie_id) in lengths:\n",
    "        lengths[len(movie_id)] += 1\n",
    "    else:\n",
    "        lengths[len(movie_id)] = 1\n",
    "        print(movie_id)\n",
    "\n",
    "lengths"
   ]
  },
  {
   "cell_type": "code",
   "execution_count": null,
   "metadata": {
    "colab": {},
    "colab_type": "code",
    "id": "CVQTv1AJQN-s",
    "outputId": "09841ce3-911d-489a-dfc1-e3e69b702ad7"
   },
   "outputs": [
    {
     "name": "stdout",
     "output_type": "stream",
     "text": [
      "(0, 8)\n"
     ]
    },
    {
     "data": {
      "text/html": [
       "<div>\n",
       "<style scoped>\n",
       "    .dataframe tbody tr th:only-of-type {\n",
       "        vertical-align: middle;\n",
       "    }\n",
       "\n",
       "    .dataframe tbody tr th {\n",
       "        vertical-align: top;\n",
       "    }\n",
       "\n",
       "    .dataframe thead th {\n",
       "        text-align: right;\n",
       "    }\n",
       "</style>\n",
       "<table border=\"1\" class=\"dataframe\">\n",
       "  <thead>\n",
       "    <tr style=\"text-align: right;\">\n",
       "      <th></th>\n",
       "      <th>user_id</th>\n",
       "      <th>title</th>\n",
       "      <th>year</th>\n",
       "      <th>rating</th>\n",
       "      <th>movie_id</th>\n",
       "      <th>is_adult</th>\n",
       "      <th>runtime_minutes</th>\n",
       "      <th>genres</th>\n",
       "    </tr>\n",
       "  </thead>\n",
       "  <tbody>\n",
       "  </tbody>\n",
       "</table>\n",
       "</div>"
      ],
      "text/plain": [
       "Empty DataFrame\n",
       "Columns: [user_id, title, year, rating, movie_id, is_adult, runtime_minutes, genres]\n",
       "Index: []"
      ]
     },
     "execution_count": 58,
     "metadata": {
      "tags": []
     },
     "output_type": "execute_result"
    }
   ],
   "source": [
    "ratings_df_merged = pd.merge(ratings_df, movie_df, on='movie_id', how='inner')\n",
    "print(ratings_df_merged.shape)\n",
    "ratings_df_merged.head()"
   ]
  },
  {
   "cell_type": "markdown",
   "metadata": {
    "colab_type": "text",
    "id": "Kb5eayV0QN-u"
   },
   "source": [
    "Seems that id in user_imdb ratings doesn't match up with imdb_id but that doesn't make much since because that column doesn't have a movie_id column. Hmmm"
   ]
  }
 ],
 "metadata": {
  "colab": {
   "name": "data_visualizations.ipynb",
   "provenance": []
  },
  "kernelspec": {
   "display_name": "Python 3",
   "language": "python",
   "name": "python3"
  },
  "language_info": {
   "codemirror_mode": {
    "name": "ipython",
    "version": 3
   },
   "file_extension": ".py",
   "mimetype": "text/x-python",
   "name": "python",
   "nbconvert_exporter": "python",
   "pygments_lexer": "ipython3",
   "version": "3.7.4"
  }
 },
 "nbformat": 4,
 "nbformat_minor": 4
}
