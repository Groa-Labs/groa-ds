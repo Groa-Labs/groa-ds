{
 "cells": [
  {
   "cell_type": "markdown",
   "metadata": {},
   "source": [
    "# Data Visualization Exploration\n",
    "\n",
    "### Scalar value ideas for dashboard:\n",
    "`could try to emulate https://ncov19.us/ top bar`\n",
    "- avg rating of recommendations/movies you liked\n",
    "- avg year of recommendations \n",
    "- \"Your decade\" (ex 80s) generated from recommendations\n",
    "- three favorite genres (or two favorite genres and one recommendation)\n",
    "\n",
    "### Chart ideas for dashboard:\n",
    "- genre distribution of your watchlist or recommendation list\n",
    "- avg rating for each genre in your ratings\n",
    "\n",
    "### Random notes:\n",
    "- recommendations table should be adjusted, each row should be a single movie\n",
    "- it would make it so that movie_id is all we need to store (with user_id)\n",
    "- then to get all movie data we just JOIN on imdb_movies \n",
    "- because of the structure some of the processes are slowed down by being required to get movie_data one movie at a time"
   ]
  },
  {
   "cell_type": "code",
   "execution_count": 3,
   "metadata": {},
   "outputs": [],
   "source": [
    "# imports\n",
    "import pandas as pd \n",
    "import numpy as np\n",
    "import psycopg2\n",
    "import matplotlib.pyplot as plt\n",
    "from heapq import nlargest \n",
    "import os\n",
    "from dotenv import load_dotenv"
   ]
  },
  {
   "cell_type": "code",
   "execution_count": null,
   "metadata": {},
   "outputs": [],
   "source": [
    "# load .env file for keys\n",
    "load_dotenv()"
   ]
  },
  {
   "cell_type": "code",
   "execution_count": 4,
   "metadata": {},
   "outputs": [],
   "source": [
    "# create connection to prod DB\n",
    "connection = psycopg2.connect(\n",
    "                            user=os.getenv('db_user'),\n",
    "                            password=os.getenv('db_password'),\n",
    "                            host=os.getenv('db_host'),\n",
    "                            port=\"5432\",\n",
    "                            database=os.getenv('db_user')\n",
    "                            )"
   ]
  },
  {
   "cell_type": "markdown",
   "metadata": {},
   "source": [
    "## Recommendation Exploration"
   ]
  },
  {
   "cell_type": "code",
   "execution_count": 5,
   "metadata": {},
   "outputs": [
    {
     "data": {
      "text/plain": [
       "190"
      ]
     },
     "execution_count": 5,
     "metadata": {},
     "output_type": "execute_result"
    }
   ],
   "source": [
    "# get all recommendations \n",
    "cursor = connection.cursor()\n",
    "query = 'SELECT * FROM recommendations'\n",
    "cursor.execute(query)\n",
    "recommendations = cursor.fetchall()\n",
    "cursor.close()\n",
    "len(recommendations)"
   ]
  },
  {
   "cell_type": "code",
   "execution_count": 6,
   "metadata": {},
   "outputs": [
    {
     "data": {
      "text/plain": [
       "301967"
      ]
     },
     "execution_count": 6,
     "metadata": {},
     "output_type": "execute_result"
    }
   ],
   "source": [
    "# get all movies (will merge on rec df later)\n",
    "cursor = connection.cursor()\n",
    "postgreSQL_select_Query = \"SELECT movie_id, is_adult, runtime_minutes, genres FROM imdb_movies;\"\n",
    "cursor.execute(postgreSQL_select_Query)\n",
    "all_movies = cursor.fetchall()\n",
    "len(all_movies)"
   ]
  },
  {
   "cell_type": "code",
   "execution_count": 7,
   "metadata": {},
   "outputs": [
    {
     "name": "stdout",
     "output_type": "stream",
     "text": [
      "(301967, 4)\n"
     ]
    },
    {
     "data": {
      "text/html": [
       "<div>\n",
       "<style scoped>\n",
       "    .dataframe tbody tr th:only-of-type {\n",
       "        vertical-align: middle;\n",
       "    }\n",
       "\n",
       "    .dataframe tbody tr th {\n",
       "        vertical-align: top;\n",
       "    }\n",
       "\n",
       "    .dataframe thead th {\n",
       "        text-align: right;\n",
       "    }\n",
       "</style>\n",
       "<table border=\"1\" class=\"dataframe\">\n",
       "  <thead>\n",
       "    <tr style=\"text-align: right;\">\n",
       "      <th></th>\n",
       "      <th>movie_id</th>\n",
       "      <th>is_adult</th>\n",
       "      <th>runtime_minutes</th>\n",
       "      <th>genres</th>\n",
       "    </tr>\n",
       "  </thead>\n",
       "  <tbody>\n",
       "    <tr>\n",
       "      <td>0</td>\n",
       "      <td>1051218</td>\n",
       "      <td>0</td>\n",
       "      <td>80</td>\n",
       "      <td>Comedy</td>\n",
       "    </tr>\n",
       "    <tr>\n",
       "      <td>1</td>\n",
       "      <td>1051231</td>\n",
       "      <td>0</td>\n",
       "      <td>106</td>\n",
       "      <td>Documentary,Sport</td>\n",
       "    </tr>\n",
       "    <tr>\n",
       "      <td>2</td>\n",
       "      <td>10512418</td>\n",
       "      <td>0</td>\n",
       "      <td>135</td>\n",
       "      <td>Biography,History,Thriller</td>\n",
       "    </tr>\n",
       "    <tr>\n",
       "      <td>3</td>\n",
       "      <td>1051244</td>\n",
       "      <td>0</td>\n",
       "      <td>120</td>\n",
       "      <td>Musical</td>\n",
       "    </tr>\n",
       "    <tr>\n",
       "      <td>4</td>\n",
       "      <td>10505048</td>\n",
       "      <td>0</td>\n",
       "      <td>100</td>\n",
       "      <td>\\N</td>\n",
       "    </tr>\n",
       "  </tbody>\n",
       "</table>\n",
       "</div>"
      ],
      "text/plain": [
       "   movie_id  is_adult  runtime_minutes                      genres\n",
       "0   1051218         0               80                      Comedy\n",
       "1   1051231         0              106           Documentary,Sport\n",
       "2  10512418         0              135  Biography,History,Thriller\n",
       "3   1051244         0              120                     Musical\n",
       "4  10505048         0              100                          \\N"
      ]
     },
     "execution_count": 7,
     "metadata": {},
     "output_type": "execute_result"
    }
   ],
   "source": [
    "# make movie_df\n",
    "movie_ids = []\n",
    "is_adults = []\n",
    "times = []\n",
    "genres = []\n",
    "\n",
    "for movie in all_movies:\n",
    "    movie_ids.append(movie[0])\n",
    "    is_adults.append(movie[1])\n",
    "    times.append(movie[2])\n",
    "    genres.append(movie[3])\n",
    "\n",
    "movie_df = pd.DataFrame({\n",
    "    'movie_id': movie_ids,\n",
    "    'is_adult': is_adults,\n",
    "    'runtime_minutes': times,\n",
    "    'genres': genres\n",
    "})\n",
    "print(movie_df.shape)\n",
    "movie_df.head()"
   ]
  },
  {
   "cell_type": "code",
   "execution_count": 8,
   "metadata": {},
   "outputs": [
    {
     "data": {
      "text/plain": [
       "'\\nuser_id\\nrecommendation_id\\nrecommendation_json\\ndate\\nmodel_type\\n'"
      ]
     },
     "execution_count": 8,
     "metadata": {},
     "output_type": "execute_result"
    }
   ],
   "source": [
    "recommendations[0]\n",
    "\"\"\"\n",
    "user_id\n",
    "recommendation_id\n",
    "recommendation_json\n",
    "date\n",
    "model_type\n",
    "\"\"\""
   ]
  },
  {
   "cell_type": "code",
   "execution_count": 9,
   "metadata": {},
   "outputs": [
    {
     "data": {
      "text/plain": [
       "6823"
      ]
     },
     "execution_count": 9,
     "metadata": {},
     "output_type": "execute_result"
    }
   ],
   "source": [
    "# store rec info in df\n",
    "user_ids = []\n",
    "rec_ids = []\n",
    "rec_titles = []\n",
    "rec_years = []\n",
    "rec_ratings = []\n",
    "rec_votes = []\n",
    "rec_movie_ids = []\n",
    "rec_gems = []\n",
    "dates = []\n",
    "model_types = []\n",
    "\n",
    "\"\"\"\n",
    "Could just save the movie_id\n",
    "and merge a movie_data df to df made with this info\n",
    "on movie_id\n",
    "\"\"\"\n",
    "for rec in recommendations:\n",
    "    for unit in rec[2]:\n",
    "        user_ids.append(rec[0])\n",
    "        rec_ids.append(rec[1])\n",
    "        rec_titles.append(unit['Title'])\n",
    "        rec_years.append(unit['Year'])\n",
    "        rec_ratings.append(unit['Mean Rating'])\n",
    "        rec_votes.append(unit['Votes'])\n",
    "        rec_movie_ids.append(unit['ID'])\n",
    "        rec_gems.append(unit['Gem'])\n",
    "        dates.append(rec[3])\n",
    "        model_types.append(rec[4])\n",
    "\n",
    "len(user_ids)"
   ]
  },
  {
   "cell_type": "code",
   "execution_count": 10,
   "metadata": {},
   "outputs": [
    {
     "name": "stdout",
     "output_type": "stream",
     "text": [
      "(6823, 10)\n"
     ]
    },
    {
     "data": {
      "text/html": [
       "<div>\n",
       "<style scoped>\n",
       "    .dataframe tbody tr th:only-of-type {\n",
       "        vertical-align: middle;\n",
       "    }\n",
       "\n",
       "    .dataframe tbody tr th {\n",
       "        vertical-align: top;\n",
       "    }\n",
       "\n",
       "    .dataframe thead th {\n",
       "        text-align: right;\n",
       "    }\n",
       "</style>\n",
       "<table border=\"1\" class=\"dataframe\">\n",
       "  <thead>\n",
       "    <tr style=\"text-align: right;\">\n",
       "      <th></th>\n",
       "      <th>user_id</th>\n",
       "      <th>rec_id</th>\n",
       "      <th>title</th>\n",
       "      <th>year</th>\n",
       "      <th>avg_rating</th>\n",
       "      <th>votes</th>\n",
       "      <th>movie_id</th>\n",
       "      <th>gem</th>\n",
       "      <th>date</th>\n",
       "      <th>model_type</th>\n",
       "    </tr>\n",
       "  </thead>\n",
       "  <tbody>\n",
       "    <tr>\n",
       "      <td>0</td>\n",
       "      <td>277844</td>\n",
       "      <td>a983018cbd3e502f1bc44af46310ab08</td>\n",
       "      <td>Breaking News</td>\n",
       "      <td>2004</td>\n",
       "      <td>6.7</td>\n",
       "      <td>4906</td>\n",
       "      <td>0414931</td>\n",
       "      <td>False</td>\n",
       "      <td>2020-03-13 00:00:00+00:00</td>\n",
       "      <td>ratings model</td>\n",
       "    </tr>\n",
       "    <tr>\n",
       "      <td>1</td>\n",
       "      <td>277844</td>\n",
       "      <td>a983018cbd3e502f1bc44af46310ab08</td>\n",
       "      <td>OSS 117: Lost in Rio</td>\n",
       "      <td>2009</td>\n",
       "      <td>6.9</td>\n",
       "      <td>12187</td>\n",
       "      <td>1167660</td>\n",
       "      <td>False</td>\n",
       "      <td>2020-03-13 00:00:00+00:00</td>\n",
       "      <td>ratings model</td>\n",
       "    </tr>\n",
       "    <tr>\n",
       "      <td>2</td>\n",
       "      <td>277844</td>\n",
       "      <td>a983018cbd3e502f1bc44af46310ab08</td>\n",
       "      <td>The Girl from Monaco</td>\n",
       "      <td>2008</td>\n",
       "      <td>5.8</td>\n",
       "      <td>1909</td>\n",
       "      <td>1139800</td>\n",
       "      <td>False</td>\n",
       "      <td>2020-03-13 00:00:00+00:00</td>\n",
       "      <td>ratings model</td>\n",
       "    </tr>\n",
       "    <tr>\n",
       "      <td>3</td>\n",
       "      <td>277844</td>\n",
       "      <td>a983018cbd3e502f1bc44af46310ab08</td>\n",
       "      <td>Witchhammer</td>\n",
       "      <td>1970</td>\n",
       "      <td>7.9</td>\n",
       "      <td>1564</td>\n",
       "      <td>0064546</td>\n",
       "      <td>False</td>\n",
       "      <td>2020-03-13 00:00:00+00:00</td>\n",
       "      <td>ratings model</td>\n",
       "    </tr>\n",
       "    <tr>\n",
       "      <td>4</td>\n",
       "      <td>277844</td>\n",
       "      <td>a983018cbd3e502f1bc44af46310ab08</td>\n",
       "      <td>Return of the One-Armed Swordsman</td>\n",
       "      <td>1969</td>\n",
       "      <td>7.2</td>\n",
       "      <td>1060</td>\n",
       "      <td>0064265</td>\n",
       "      <td>False</td>\n",
       "      <td>2020-03-13 00:00:00+00:00</td>\n",
       "      <td>ratings model</td>\n",
       "    </tr>\n",
       "  </tbody>\n",
       "</table>\n",
       "</div>"
      ],
      "text/plain": [
       "   user_id                            rec_id  \\\n",
       "0   277844  a983018cbd3e502f1bc44af46310ab08   \n",
       "1   277844  a983018cbd3e502f1bc44af46310ab08   \n",
       "2   277844  a983018cbd3e502f1bc44af46310ab08   \n",
       "3   277844  a983018cbd3e502f1bc44af46310ab08   \n",
       "4   277844  a983018cbd3e502f1bc44af46310ab08   \n",
       "\n",
       "                               title  year avg_rating  votes movie_id    gem  \\\n",
       "0                      Breaking News  2004        6.7   4906  0414931  False   \n",
       "1               OSS 117: Lost in Rio  2009        6.9  12187  1167660  False   \n",
       "2               The Girl from Monaco  2008        5.8   1909  1139800  False   \n",
       "3                        Witchhammer  1970        7.9   1564  0064546  False   \n",
       "4  Return of the One-Armed Swordsman  1969        7.2   1060  0064265  False   \n",
       "\n",
       "                       date     model_type  \n",
       "0 2020-03-13 00:00:00+00:00  ratings model  \n",
       "1 2020-03-13 00:00:00+00:00  ratings model  \n",
       "2 2020-03-13 00:00:00+00:00  ratings model  \n",
       "3 2020-03-13 00:00:00+00:00  ratings model  \n",
       "4 2020-03-13 00:00:00+00:00  ratings model  "
      ]
     },
     "execution_count": 10,
     "metadata": {},
     "output_type": "execute_result"
    }
   ],
   "source": [
    "# make df\n",
    "df = pd.DataFrame({\n",
    "    'user_id': user_ids,\n",
    "    'rec_id': rec_ids,\n",
    "    'title': rec_titles,\n",
    "    'year': rec_years,\n",
    "    'avg_rating': rec_ratings,\n",
    "    'votes': rec_votes,\n",
    "    'movie_id': rec_movie_ids,\n",
    "    'gem': rec_gems,\n",
    "    'date': dates,\n",
    "    'model_type': model_types\n",
    "})\n",
    "print(df.shape)\n",
    "df.head()"
   ]
  },
  {
   "cell_type": "code",
   "execution_count": 11,
   "metadata": {},
   "outputs": [
    {
     "name": "stdout",
     "output_type": "stream",
     "text": [
      "(6820, 13)\n"
     ]
    },
    {
     "data": {
      "text/html": [
       "<div>\n",
       "<style scoped>\n",
       "    .dataframe tbody tr th:only-of-type {\n",
       "        vertical-align: middle;\n",
       "    }\n",
       "\n",
       "    .dataframe tbody tr th {\n",
       "        vertical-align: top;\n",
       "    }\n",
       "\n",
       "    .dataframe thead th {\n",
       "        text-align: right;\n",
       "    }\n",
       "</style>\n",
       "<table border=\"1\" class=\"dataframe\">\n",
       "  <thead>\n",
       "    <tr style=\"text-align: right;\">\n",
       "      <th></th>\n",
       "      <th>user_id</th>\n",
       "      <th>rec_id</th>\n",
       "      <th>title</th>\n",
       "      <th>year</th>\n",
       "      <th>avg_rating</th>\n",
       "      <th>votes</th>\n",
       "      <th>movie_id</th>\n",
       "      <th>gem</th>\n",
       "      <th>date</th>\n",
       "      <th>model_type</th>\n",
       "      <th>is_adult</th>\n",
       "      <th>runtime_minutes</th>\n",
       "      <th>genres</th>\n",
       "    </tr>\n",
       "  </thead>\n",
       "  <tbody>\n",
       "    <tr>\n",
       "      <td>0</td>\n",
       "      <td>277844</td>\n",
       "      <td>a983018cbd3e502f1bc44af46310ab08</td>\n",
       "      <td>Breaking News</td>\n",
       "      <td>2004</td>\n",
       "      <td>6.7</td>\n",
       "      <td>4906</td>\n",
       "      <td>0414931</td>\n",
       "      <td>False</td>\n",
       "      <td>2020-03-13 00:00:00+00:00</td>\n",
       "      <td>ratings model</td>\n",
       "      <td>0</td>\n",
       "      <td>90</td>\n",
       "      <td>Action,Crime,Drama</td>\n",
       "    </tr>\n",
       "    <tr>\n",
       "      <td>1</td>\n",
       "      <td>277844</td>\n",
       "      <td>cff35baa7012b4303bb577312b0cc9ee</td>\n",
       "      <td>Breaking News</td>\n",
       "      <td>2004</td>\n",
       "      <td>6.7</td>\n",
       "      <td>4906</td>\n",
       "      <td>0414931</td>\n",
       "      <td>False</td>\n",
       "      <td>2020-03-16 00:00:00+00:00</td>\n",
       "      <td>ratings model</td>\n",
       "      <td>0</td>\n",
       "      <td>90</td>\n",
       "      <td>Action,Crime,Drama</td>\n",
       "    </tr>\n",
       "    <tr>\n",
       "      <td>2</td>\n",
       "      <td>284162</td>\n",
       "      <td>b40e6f26720674f9e0030f55803a29d5</td>\n",
       "      <td>Breaking News</td>\n",
       "      <td>2004</td>\n",
       "      <td>6.7</td>\n",
       "      <td>4906</td>\n",
       "      <td>0414931</td>\n",
       "      <td>False</td>\n",
       "      <td>2020-03-16 00:00:00+00:00</td>\n",
       "      <td>ratings model</td>\n",
       "      <td>0</td>\n",
       "      <td>90</td>\n",
       "      <td>Action,Crime,Drama</td>\n",
       "    </tr>\n",
       "    <tr>\n",
       "      <td>3</td>\n",
       "      <td>314295</td>\n",
       "      <td>81cffda9b335d5a2554ea64f4fd60386</td>\n",
       "      <td>Breaking News</td>\n",
       "      <td>2004</td>\n",
       "      <td>6.7</td>\n",
       "      <td>4906</td>\n",
       "      <td>0414931</td>\n",
       "      <td>False</td>\n",
       "      <td>2020-03-26 22:19:43.415157+00:00</td>\n",
       "      <td>ratings model</td>\n",
       "      <td>0</td>\n",
       "      <td>90</td>\n",
       "      <td>Action,Crime,Drama</td>\n",
       "    </tr>\n",
       "    <tr>\n",
       "      <td>4</td>\n",
       "      <td>314306</td>\n",
       "      <td>bf1894187af9e62cc763525ae3a996df</td>\n",
       "      <td>Breaking News</td>\n",
       "      <td>2004</td>\n",
       "      <td>6.7</td>\n",
       "      <td>4906</td>\n",
       "      <td>0414931</td>\n",
       "      <td>False</td>\n",
       "      <td>2020-03-26 22:22:13.998028+00:00</td>\n",
       "      <td>ratings model</td>\n",
       "      <td>0</td>\n",
       "      <td>90</td>\n",
       "      <td>Action,Crime,Drama</td>\n",
       "    </tr>\n",
       "  </tbody>\n",
       "</table>\n",
       "</div>"
      ],
      "text/plain": [
       "   user_id                            rec_id          title  year avg_rating  \\\n",
       "0   277844  a983018cbd3e502f1bc44af46310ab08  Breaking News  2004        6.7   \n",
       "1   277844  cff35baa7012b4303bb577312b0cc9ee  Breaking News  2004        6.7   \n",
       "2   284162  b40e6f26720674f9e0030f55803a29d5  Breaking News  2004        6.7   \n",
       "3   314295  81cffda9b335d5a2554ea64f4fd60386  Breaking News  2004        6.7   \n",
       "4   314306  bf1894187af9e62cc763525ae3a996df  Breaking News  2004        6.7   \n",
       "\n",
       "  votes movie_id    gem                             date     model_type  \\\n",
       "0  4906  0414931  False        2020-03-13 00:00:00+00:00  ratings model   \n",
       "1  4906  0414931  False        2020-03-16 00:00:00+00:00  ratings model   \n",
       "2  4906  0414931  False        2020-03-16 00:00:00+00:00  ratings model   \n",
       "3  4906  0414931  False 2020-03-26 22:19:43.415157+00:00  ratings model   \n",
       "4  4906  0414931  False 2020-03-26 22:22:13.998028+00:00  ratings model   \n",
       "\n",
       "   is_adult  runtime_minutes              genres  \n",
       "0         0               90  Action,Crime,Drama  \n",
       "1         0               90  Action,Crime,Drama  \n",
       "2         0               90  Action,Crime,Drama  \n",
       "3         0               90  Action,Crime,Drama  \n",
       "4         0               90  Action,Crime,Drama  "
      ]
     },
     "execution_count": 11,
     "metadata": {},
     "output_type": "execute_result"
    }
   ],
   "source": [
    "# merge with movie_df on movie_id to get additional movie info\n",
    "df = pd.merge(df, movie_df, on='movie_id', how='inner')\n",
    "print(df.shape)\n",
    "df.head()"
   ]
  },
  {
   "cell_type": "code",
   "execution_count": 22,
   "metadata": {},
   "outputs": [
    {
     "name": "stdout",
     "output_type": "stream",
     "text": [
      "0414931\n",
      "10883004\n"
     ]
    },
    {
     "data": {
      "text/plain": [
       "{7: 6750, 8: 70}"
      ]
     },
     "execution_count": 22,
     "metadata": {},
     "output_type": "execute_result"
    }
   ],
   "source": [
    "# get len of all movie_ids\n",
    "lengths = {}\n",
    "\n",
    "for movie_id in df['movie_id'].values:\n",
    "    if len(movie_id) in lengths:\n",
    "        lengths[len(movie_id)] += 1\n",
    "    else:\n",
    "        lengths[len(movie_id)] = 1\n",
    "        print(movie_id)\n",
    "\n",
    "lengths"
   ]
  },
  {
   "cell_type": "code",
   "execution_count": 12,
   "metadata": {},
   "outputs": [
    {
     "data": {
      "text/plain": [
       "ratings model    6820\n",
       "Name: model_type, dtype: int64"
      ]
     },
     "execution_count": 12,
     "metadata": {},
     "output_type": "execute_result"
    }
   ],
   "source": [
    "# no variance here, can probably drop\n",
    "df['model_type'].value_counts()"
   ]
  },
  {
   "cell_type": "code",
   "execution_count": 13,
   "metadata": {},
   "outputs": [
    {
     "data": {
      "text/plain": [
       "user_id                                                        int64\n",
       "rec_id                                                        object\n",
       "title                                                         object\n",
       "year                                                          object\n",
       "avg_rating                                                    object\n",
       "votes                                                         object\n",
       "movie_id                                                      object\n",
       "gem                                                             bool\n",
       "date               datetime64[ns, psycopg2.tz.FixedOffsetTimezone...\n",
       "model_type                                                    object\n",
       "is_adult                                                       int64\n",
       "runtime_minutes                                                int64\n",
       "genres                                                        object\n",
       "dtype: object"
      ]
     },
     "execution_count": 13,
     "metadata": {},
     "output_type": "execute_result"
    }
   ],
   "source": [
    "df.dtypes"
   ]
  },
  {
   "cell_type": "code",
   "execution_count": 14,
   "metadata": {},
   "outputs": [],
   "source": [
    "# replace 'None' with np.NaN\n",
    "df = df.replace({'None': np.NaN})"
   ]
  },
  {
   "cell_type": "code",
   "execution_count": 15,
   "metadata": {},
   "outputs": [
    {
     "data": {
      "text/plain": [
       "user_id                                                        int64\n",
       "rec_id                                                        object\n",
       "title                                                         object\n",
       "year                                                         float64\n",
       "avg_rating                                                   float64\n",
       "votes                                                        float64\n",
       "movie_id                                                      object\n",
       "gem                                                             bool\n",
       "date               datetime64[ns, psycopg2.tz.FixedOffsetTimezone...\n",
       "model_type                                                    object\n",
       "is_adult                                                       int64\n",
       "runtime_minutes                                                int64\n",
       "genres                                                        object\n",
       "dtype: object"
      ]
     },
     "execution_count": 15,
     "metadata": {},
     "output_type": "execute_result"
    }
   ],
   "source": [
    "# fix incorrect columns\n",
    "df['avg_rating'] = df['avg_rating'].astype('float64')\n",
    "# have to use float for these cause NaNs\n",
    "df['year'] = df['year'].astype('float64') \n",
    "df['votes'] = df['votes'].astype('float64')\n",
    "df.dtypes"
   ]
  },
  {
   "cell_type": "code",
   "execution_count": 16,
   "metadata": {},
   "outputs": [
    {
     "data": {
      "text/plain": [
       "78"
      ]
     },
     "execution_count": 16,
     "metadata": {},
     "output_type": "execute_result"
    }
   ],
   "source": [
    "user_recs = df.groupby(by='user_id')\n",
    "len(user_recs)"
   ]
  },
  {
   "cell_type": "code",
   "execution_count": 17,
   "metadata": {},
   "outputs": [
    {
     "name": "stdout",
     "output_type": "stream",
     "text": [
      "1 7.731249999999996 1970.075\n",
      "{'Comedy': 36, 'Drama': 74, 'Romance': 14, 'Crime': 10, 'Thriller': 8, 'Adventure': 5, 'War': 10, 'Film-Noir': 6, 'Music': 3, 'Documentary': 3, 'Mystery': 3}\n"
     ]
    },
    {
     "data": {
      "image/png": "[encoded data removed]",
      "text/plain": [
       "<Figure size 432x288 with 1 Axes>"
      ]
     },
     "metadata": {
      "needs_background": "light"
     },
     "output_type": "display_data"
    },
    {
     "name": "stdout",
     "output_type": "stream",
     "text": [
      "3 7.106521739130437 1995.4130434782608\n",
      "{'Action': 17, 'Adventure': 14, 'Thriller': 14, 'Drama': 19, 'Horror': 10, 'Animation': 2, 'Mystery': 5, 'Biography': 1, 'History': 1, 'Music': 3, 'Romance': 3, 'Comedy': 4, 'Crime': 6, 'Documentary': 1, 'Sci-Fi': 7, 'Fantasy': 4, 'Family': 2, 'Western': 2, 'War': 1}\n"
     ]
    },
    {
     "data": {
      "image/png": "[encoded data removed]",
      "text/plain": [
       "<Figure size 432x288 with 1 Axes>"
      ]
     },
     "metadata": {
      "needs_background": "light"
     },
     "output_type": "display_data"
    },
    {
     "name": "stdout",
     "output_type": "stream",
     "text": [
      "4 7.737500000000003 1968.4191176470588\n",
      "{'Comedy': 64, 'Drama': 130, 'Fantasy': 16, 'Romance': 26, 'Adventure': 15, 'Biography': 7, 'Crime': 18, 'Thriller': 8, 'War': 16, 'Film-Noir': 11, 'Music': 6, 'Mystery': 16, 'Horror': 1}\n"
     ]
    },
    {
     "data": {
      "image/png": "[encoded data removed]",
      "text/plain": [
       "<Figure size 432x288 with 1 Axes>"
      ]
     },
     "metadata": {
      "needs_background": "light"
     },
     "output_type": "display_data"
    },
    {
     "name": "stdout",
     "output_type": "stream",
     "text": [
      "6 7.733014354066988 1971.7081339712918\n",
      "{'Comedy': 61, 'Drama': 198, 'Fantasy': 16, 'Romance': 29, 'War': 27, 'Adventure': 16, 'Biography': 4, 'Crime': 20, 'Thriller': 8, 'Mystery': 9, 'Music': 2, 'Film-Noir': 26, 'Documentary': 8, 'Action': 1}\n"
     ]
    },
    {
     "data": {
      "image/png": "[encoded data removed]",
      "text/plain": [
       "<Figure size 432x288 with 1 Axes>"
      ]
     },
     "metadata": {
      "needs_background": "light"
     },
     "output_type": "display_data"
    },
    {
     "name": "stdout",
     "output_type": "stream",
     "text": [
      "11 7.134883720930234 1996.3953488372092\n",
      "{'Action': 17, 'Adventure': 13, 'Thriller': 9, 'Drama': 27, 'Biography': 5, 'History': 3, 'Music': 2, 'Romance': 6, 'Documentary': 2, 'Crime': 6, 'Fantasy': 5, 'Mystery': 4, 'Sci-Fi': 2, 'War': 5, 'Family': 3, 'Animation': 3, 'Comedy': 4}\n"
     ]
    },
    {
     "data": {
      "image/png": "[encoded data removed]",
      "text/plain": [
       "<Figure size 432x288 with 1 Axes>"
      ]
     },
     "metadata": {
      "needs_background": "light"
     },
     "output_type": "display_data"
    }
   ],
   "source": [
    "# get scaler values\n",
    "counter = 0\n",
    "for user, data in user_recs:\n",
    "    genre_counts = {}\n",
    "    print(user, data['avg_rating'].mean(), data['year'].mean())\n",
    "    for genre_string in data['genres'].values:\n",
    "        genres = genre_string.split(',')\n",
    "        for genre in genres:\n",
    "            if genre in genre_counts:\n",
    "                genre_counts[genre] += 1\n",
    "            else:\n",
    "                genre_counts[genre] = 1\n",
    "    print(genre_counts)\n",
    "    plt.bar(range(len(genre_counts)), genre_counts.values())\n",
    "    plt.xticks(range(len(genre_counts)), genre_counts.keys(), rotation=90)\n",
    "    plt.show()\n",
    "    counter += 1\n",
    "    if counter == 5:\n",
    "        break"
   ]
  },
  {
   "cell_type": "code",
   "execution_count": 18,
   "metadata": {},
   "outputs": [],
   "source": [
    "# refactor to a function \n",
    "\"\"\"\n",
    "Currently gets user dashboard data\n",
    "relating to recommendations made to the user\n",
    "\n",
    "Because the movie data in recommendations is stored\n",
    "in a JSON object this function is required to get the additional\n",
    "movie data one by one rather than JOIN the movie data on the \n",
    "initial select query. Should adjust how recommendations are stored to \n",
    "improve speed\n",
    "\"\"\"\n",
    "def get_user_dashboard_data(user_id):\n",
    "    cursor = connection.cursor()\n",
    "    query = f\"SELECT * FROM recommendations WHERE user_id = {user_id};\"\n",
    "    cursor.execute(query)\n",
    "    recommendations = cursor.fetchall()\n",
    "    \n",
    "    rec_ids = []\n",
    "    rec_titles = []\n",
    "    rec_years = []\n",
    "    rec_ratings = []\n",
    "    rec_votes = []\n",
    "    rec_movie_ids = []\n",
    "    # rec_gems = []\n",
    "    # dates = []\n",
    "    genres = []\n",
    "    # don't think it's needed\n",
    "    # model_types = []\n",
    "\n",
    "    for rec in recommendations:\n",
    "        for unit in rec[2]:\n",
    "            movie_query = f\"SELECT genres FROM imdb_movies WHERE movie_id = '{unit['ID']}';\"\n",
    "            cursor.execute(movie_query)\n",
    "            movie_data = cursor.fetchone()\n",
    "            rec_ids.append(rec[1])\n",
    "            rec_titles.append(unit['Title'])\n",
    "            rec_years.append(unit['Year'])\n",
    "            rec_ratings.append(unit['Mean Rating'])\n",
    "            rec_votes.append(unit['Votes'])\n",
    "            rec_movie_ids.append(unit['ID'])\n",
    "            genres.append(movie_data[0])\n",
    "            # rec_gems.append(unit['Gem'])\n",
    "            # dates.append(rec[3])\n",
    "            # model_types.append(rec[4])\n",
    "            \n",
    "    cursor.close()\n",
    "    data = pd.DataFrame({\n",
    "        'rec_id': rec_ids,\n",
    "        'title': rec_titles,\n",
    "        'year': rec_years,\n",
    "        'avg_rating': rec_ratings,\n",
    "        'votes': rec_votes,\n",
    "        'movie_id': rec_movie_ids,\n",
    "        'genres': genres\n",
    "    })\n",
    "    \n",
    "    genre_counts = {}\n",
    "    for genre_string in data['genres'].values:\n",
    "        genres = genre_string.split(',')\n",
    "        for genre in genres:\n",
    "            if genre in genre_counts:\n",
    "                genre_counts[genre] += 1\n",
    "            else:\n",
    "                genre_counts[genre] = 1\n",
    "    plt.bar(range(len(genre_counts)), genre_counts.values())\n",
    "    plt.xticks(range(len(genre_counts)), genre_counts.keys(), rotation=90)\n",
    "    plt.show()\n",
    "    top_three = nlargest(3, genre_counts, key=genre_counts.get) \n",
    "    for key in top_three:\n",
    "        print(f\"{key}: {genre_counts[key]}\")\n",
    "    return round(data['avg_rating'].mean(), 2), int(data['year'].mean())"
   ]
  },
  {
   "cell_type": "code",
   "execution_count": 19,
   "metadata": {},
   "outputs": [
    {
     "data": {
      "image/png": "[encoded data removed]",
      "text/plain": [
       "<Figure size 432x288 with 1 Axes>"
      ]
     },
     "metadata": {
      "needs_background": "light"
     },
     "output_type": "display_data"
    },
    {
     "name": "stdout",
     "output_type": "stream",
     "text": [
      "Drama: 74\n",
      "Comedy: 36\n",
      "Romance: 14\n"
     ]
    },
    {
     "data": {
      "text/plain": [
       "(7.73, 1970)"
      ]
     },
     "execution_count": 19,
     "metadata": {},
     "output_type": "execute_result"
    }
   ],
   "source": [
    "get_user_dashboard_data(1)"
   ]
  },
  {
   "cell_type": "markdown",
   "metadata": {},
   "source": [
    "## Rating Exploration"
   ]
  },
  {
   "cell_type": "code",
   "execution_count": 24,
   "metadata": {},
   "outputs": [
    {
     "data": {
      "text/plain": [
       "20337"
      ]
     },
     "execution_count": 24,
     "metadata": {},
     "output_type": "execute_result"
    }
   ],
   "source": [
    "# get all ratings\n",
    "cursor = connection.cursor()\n",
    "query = 'SELECT user_id, name, year, rating, id FROM user_imdb_ratings;'\n",
    "cursor.execute(query)\n",
    "ratings = cursor.fetchall()\n",
    "cursor.close()\n",
    "len(ratings)"
   ]
  },
  {
   "cell_type": "code",
   "execution_count": 25,
   "metadata": {},
   "outputs": [
    {
     "name": "stdout",
     "output_type": "stream",
     "text": [
      "(20337, 5)\n"
     ]
    },
    {
     "data": {
      "text/html": [
       "<div>\n",
       "<style scoped>\n",
       "    .dataframe tbody tr th:only-of-type {\n",
       "        vertical-align: middle;\n",
       "    }\n",
       "\n",
       "    .dataframe tbody tr th {\n",
       "        vertical-align: top;\n",
       "    }\n",
       "\n",
       "    .dataframe thead th {\n",
       "        text-align: right;\n",
       "    }\n",
       "</style>\n",
       "<table border=\"1\" class=\"dataframe\">\n",
       "  <thead>\n",
       "    <tr style=\"text-align: right;\">\n",
       "      <th></th>\n",
       "      <th>user_id</th>\n",
       "      <th>title</th>\n",
       "      <th>year</th>\n",
       "      <th>rating</th>\n",
       "      <th>movie_id</th>\n",
       "    </tr>\n",
       "  </thead>\n",
       "  <tbody>\n",
       "    <tr>\n",
       "      <td>0</td>\n",
       "      <td>11</td>\n",
       "      <td>Rear Window</td>\n",
       "      <td>1954</td>\n",
       "      <td>5.0</td>\n",
       "      <td>1323</td>\n",
       "    </tr>\n",
       "    <tr>\n",
       "      <td>1</td>\n",
       "      <td>11</td>\n",
       "      <td>Ran</td>\n",
       "      <td>1985</td>\n",
       "      <td>4.5</td>\n",
       "      <td>1938</td>\n",
       "    </tr>\n",
       "    <tr>\n",
       "      <td>2</td>\n",
       "      <td>11</td>\n",
       "      <td>Badlands</td>\n",
       "      <td>1973</td>\n",
       "      <td>4.5</td>\n",
       "      <td>2390</td>\n",
       "    </tr>\n",
       "    <tr>\n",
       "      <td>3</td>\n",
       "      <td>11</td>\n",
       "      <td>It</td>\n",
       "      <td>2017</td>\n",
       "      <td>4.5</td>\n",
       "      <td>2817</td>\n",
       "    </tr>\n",
       "    <tr>\n",
       "      <td>4</td>\n",
       "      <td>11</td>\n",
       "      <td>The Help</td>\n",
       "      <td>2011</td>\n",
       "      <td>4.5</td>\n",
       "      <td>5027</td>\n",
       "    </tr>\n",
       "  </tbody>\n",
       "</table>\n",
       "</div>"
      ],
      "text/plain": [
       "   user_id        title  year  rating movie_id\n",
       "0       11  Rear Window  1954     5.0     1323\n",
       "1       11          Ran  1985     4.5     1938\n",
       "2       11     Badlands  1973     4.5     2390\n",
       "3       11           It  2017     4.5     2817\n",
       "4       11     The Help  2011     4.5     5027"
      ]
     },
     "execution_count": 25,
     "metadata": {},
     "output_type": "execute_result"
    }
   ],
   "source": [
    "# make ratings data into df\n",
    "user_ids = []\n",
    "names = []\n",
    "years = []\n",
    "user_ratings = []\n",
    "movie_ids = []\n",
    "\n",
    "for rating in ratings:\n",
    "    user_ids.append(rating[0])\n",
    "    names.append(rating[1])\n",
    "    years.append(rating[2])\n",
    "    user_ratings.append(rating[3])\n",
    "    movie_ids.append(str(rating[4]))\n",
    "\n",
    "ratings_df = pd.DataFrame({\n",
    "    'user_id': user_ids,\n",
    "    'title': names,\n",
    "    'year': years,\n",
    "    'rating': user_ratings,\n",
    "    'movie_id': movie_ids\n",
    "})\n",
    "print(ratings_df.shape)\n",
    "ratings_df.head()"
   ]
  },
  {
   "cell_type": "code",
   "execution_count": 26,
   "metadata": {},
   "outputs": [
    {
     "name": "stdout",
     "output_type": "stream",
     "text": [
      "1323\n",
      "11293\n",
      "121\n",
      "1\n",
      "10\n"
     ]
    },
    {
     "data": {
      "text/plain": [
       "{4: 9000, 5: 10338, 3: 900, 1: 9, 2: 90}"
      ]
     },
     "execution_count": 26,
     "metadata": {},
     "output_type": "execute_result"
    }
   ],
   "source": [
    "# get len of all movie_ids in ratings_df\n",
    "lengths = {}\n",
    "\n",
    "for movie_id in ratings_df['movie_id'].values:\n",
    "    if len(movie_id) in lengths:\n",
    "        lengths[len(movie_id)] += 1\n",
    "    else:\n",
    "        lengths[len(movie_id)] = 1\n",
    "        print(movie_id)\n",
    "\n",
    "lengths"
   ]
  },
  {
   "cell_type": "code",
   "execution_count": 58,
   "metadata": {},
   "outputs": [
    {
     "name": "stdout",
     "output_type": "stream",
     "text": [
      "(0, 8)\n"
     ]
    },
    {
     "data": {
      "text/html": [
       "<div>\n",
       "<style scoped>\n",
       "    .dataframe tbody tr th:only-of-type {\n",
       "        vertical-align: middle;\n",
       "    }\n",
       "\n",
       "    .dataframe tbody tr th {\n",
       "        vertical-align: top;\n",
       "    }\n",
       "\n",
       "    .dataframe thead th {\n",
       "        text-align: right;\n",
       "    }\n",
       "</style>\n",
       "<table border=\"1\" class=\"dataframe\">\n",
       "  <thead>\n",
       "    <tr style=\"text-align: right;\">\n",
       "      <th></th>\n",
       "      <th>user_id</th>\n",
       "      <th>title</th>\n",
       "      <th>year</th>\n",
       "      <th>rating</th>\n",
       "      <th>movie_id</th>\n",
       "      <th>is_adult</th>\n",
       "      <th>runtime_minutes</th>\n",
       "      <th>genres</th>\n",
       "    </tr>\n",
       "  </thead>\n",
       "  <tbody>\n",
       "  </tbody>\n",
       "</table>\n",
       "</div>"
      ],
      "text/plain": [
       "Empty DataFrame\n",
       "Columns: [user_id, title, year, rating, movie_id, is_adult, runtime_minutes, genres]\n",
       "Index: []"
      ]
     },
     "execution_count": 58,
     "metadata": {},
     "output_type": "execute_result"
    }
   ],
   "source": [
    "ratings_df_merged = pd.merge(ratings_df, movie_df, on='movie_id', how='inner')\n",
    "print(ratings_df_merged.shape)\n",
    "ratings_df_merged.head()"
   ]
  },
  {
   "cell_type": "markdown",
   "metadata": {},
   "source": [
    "Seems that id in user_imdb ratings doesn't match up with imdb_id but that doesn't make much since because that column doesn't have a movie_id column. Hmmm"
   ]
  }
 ],
 "metadata": {
  "kernelspec": {
   "display_name": "lambda_venv",
   "language": "python",
   "name": "lambda_venv"
  },
  "language_info": {
   "codemirror_mode": {
    "name": "ipython",
    "version": 3
   },
   "file_extension": ".py",
   "mimetype": "text/x-python",
   "name": "python",
   "nbconvert_exporter": "python",
   "pygments_lexer": "ipython3",
   "version": "3.6.9"
  }
 },
 "nbformat": 4,
 "nbformat_minor": 4
}
